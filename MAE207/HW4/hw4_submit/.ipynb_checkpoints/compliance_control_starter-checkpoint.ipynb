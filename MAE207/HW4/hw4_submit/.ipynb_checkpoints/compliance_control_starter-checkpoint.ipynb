{
 "cells": [
  {
   "cell_type": "markdown",
   "metadata": {},
   "source": [
    "# Starter code for evaluating compliance control\n",
    "\n",
    "- This code is a boilerplate version to visualize the current commands we will send to the motor when it is in various configurations. \n",
    "- There is only one place for you to edit to visualize this, you are to add in code to the compliancea_control function at the bottom. \n",
    "- When this is completed, you can run the last script to move the leg to different xy locations and compute the motor currents."
   ]
  },
  {
   "cell_type": "code",
   "execution_count": 2,
   "metadata": {},
   "outputs": [],
   "source": [
    "import numpy as np\n",
    "\n",
    "import matplotlib as mpl\n",
    "mpl.use('Qt5Agg')\n",
    "\n",
    "import matplotlib.pyplot as plt\n",
    "plt.ion()\n",
    "\n",
    "# for the symbolic manipulation of jacobian\n",
    "import sympy as sp\n",
    "# from sympy import symbols\n",
    "from sympy import sin, cos, asin, acos, pi, atan2, sqrt\n",
    "from sympy.utilities.lambdify import lambdify\n",
    "# from sympy import Matrix\n",
    "\n",
    "from scipy.optimize import minimize\n",
    "from scipy.optimize import fsolve\n",
    "\n",
    "import time\n",
    "\n",
    "import odrive\n",
    "import odrive.utils\n",
    "import odrive.enums"
   ]
  },
  {
   "cell_type": "code",
   "execution_count": 3,
   "metadata": {},
   "outputs": [],
   "source": [
    "## Motor constants\n",
    "K_T = 0.0285;                 # Nm / A\n",
    "peak_amp = 30;              # A\n",
    "peak_torque = K_T * peak_amp; # Nm\n",
    "\n",
    "l1 = 0.09;                  # m \n",
    "l2 = 0.16;                  # m\n",
    "w = 0.07;                   # m\n"
   ]
  },
  {
   "cell_type": "code",
   "execution_count": 4,
   "metadata": {},
   "outputs": [],
   "source": [
    "def T(theta, x, y):\n",
    "    \"\"\"\n",
    "    Function to return an arbitrary transformation matrix \n",
    "    This is for sympy symbolic calculation\n",
    "    \"\"\"\n",
    "    return sp.Matrix([[sp.cos(theta), -sp.sin(theta), x], \n",
    "                      [sp.sin(theta), sp.cos(theta), y],\n",
    "                      [0, 0, 1]])\n",
    "\n",
    "def sym_to_np(T):\n",
    "    return np.array(T).astype(np.float64)\n",
    "\n"
   ]
  },
  {
   "cell_type": "markdown",
   "metadata": {},
   "source": [
    "## FK Through transformation matrices"
   ]
  },
  {
   "cell_type": "code",
   "execution_count": 5,
   "metadata": {},
   "outputs": [],
   "source": [
    "(thetaL_sym, \n",
    " thetaR_sym, \n",
    " link1_sym, \n",
    " link2_sym, \n",
    " width_sym) = sp.symbols(\"\"\"thetaL_sym \n",
    "                            thetaR_sym \n",
    "                            link1_sym \n",
    "                            link2_sym \n",
    "                            width_sym\"\"\", real = True)"
   ]
  },
  {
   "cell_type": "code",
   "execution_count": 6,
   "metadata": {},
   "outputs": [],
   "source": [
    "x_r = width_sym/2 + link1_sym*sp.cos(thetaR_sym)\n",
    "x_l = -width_sym/2 + link1_sym*sp.cos(thetaL_sym)\n",
    "\n",
    "y_r = link1_sym*sp.sin(thetaR_sym)\n",
    "y_l = link1_sym*sp.sin(thetaL_sym)\n",
    "\n",
    "theta3_sym = sp.atan2(y_r - y_l, x_r - x_l)\n",
    "L = sp.sqrt((x_l - x_r)**2 + (y_l - y_r)**2)\n",
    "\n",
    "FK = T(thetaL_sym, -width_sym/2, 0)@T(-(thetaL_sym - theta3_sym), link1_sym, 0)@sp.Matrix([L/2, sp.sqrt(link2_sym**2 - (L/2)**2), 1])\n",
    "FK = FK[:2,:]\n",
    "FK.simplify()\n",
    "\n",
    "#cartesian\n",
    "FK = FK.subs([(link1_sym,l1), (link2_sym,l2), (width_sym,w)])\n",
    "J = FK.jacobian((thetaR_sym, thetaL_sym))\n",
    "J_fast = lambdify((thetaR_sym, thetaL_sym), J)\n",
    "FK_fast = lambdify((thetaR_sym, thetaL_sym), FK)"
   ]
  },
  {
   "cell_type": "code",
   "execution_count": 7,
   "metadata": {},
   "outputs": [],
   "source": [
    "xy = FK_fast(np.pi/2, np.pi/2)\n",
    "\n",
    "J_new = J_fast(np.pi/2, np.pi/2)\n"
   ]
  },
  {
   "cell_type": "code",
   "execution_count": 123,
   "metadata": {},
   "outputs": [],
   "source": [
    "#polar\n",
    "\n",
    "FK_polar = sp.Matrix([sp.sqrt(FK[0,0]**2 + FK[1,0]**2), sp.atan2(FK[0,0], FK[1,0])])\n",
    "FK_polar_fast = lambdify((thetaR_sym, thetaL_sym), FK_polar)\n",
    "J_polar = FK_polar.jacobian([thetaR_sym, thetaL_sym]).evalf()\n",
    "J_pol_fast = lambdify((thetaR_sym, thetaL_sym), J_polar)"
   ]
  },
  {
   "cell_type": "markdown",
   "metadata": {},
   "source": [
    "## IK through optimization"
   ]
  },
  {
   "cell_type": "code",
   "execution_count": 37,
   "metadata": {},
   "outputs": [],
   "source": [
    "def IK_5_link(x, y, l1 = l1, l2 = l2, w = w):\n",
    "    \n",
    "    def leg_wide(var):\n",
    "        return np.linalg.norm([var[0], var[1] - np.pi])\n",
    "    \n",
    "    def x_constraint_equation(var):\n",
    "        # should be equal to zero when the \n",
    "        return l1**2 - l2**2 + (x - w/2)**2 + y**2 - 2*l1*(y*np.sin(var[0]) + (x - w/2)*np.cos(var[0]))\n",
    "\n",
    "    def y_constraint_equation(var):\n",
    "        return l1**2 - l2**2 + (x + w/2)**2 + y**2 - 2*l1*(y*np.sin(var[1]) + (x + w/2)*np.cos(var[1]))\n",
    "\n",
    "    \n",
    "    res = minimize(leg_wide, (0.1, 9*np.pi/10), method=\"SLSQP\", constraints= ({\"type\": \"eq\", \"fun\": x_constraint_equation}, \n",
    "                                                                               {\"type\": \"eq\", \"fun\": y_constraint_equation}))\n",
    "    \n",
    "    return (res, np.linalg.norm([x_constraint_equation(res.x), y_constraint_equation(res.x)]))\n"
   ]
  },
  {
   "cell_type": "code",
   "execution_count": 38,
   "metadata": {},
   "outputs": [],
   "source": [
    "def internal_angles(thetaR, thetaL, l1 = l1, l2 = l2, w = w):\n",
    "    \"\"\"\n",
    "    Solves for the internal angles of the leg so that we can visualize\n",
    "    \"\"\"\n",
    "    def sys(x): \n",
    "        return (w + l1*np.cos(thetaR) + l2*np.cos(x[0]) - l1*np.cos(thetaL) - l2*np.cos(x[1]),\n",
    "                l1*np.sin(thetaR) + l2*np.sin(x[0]) - l1*np.sin(thetaL) - l2*np.sin(x[1]))\n",
    "\n",
    "    alphaR, alphaL = fsolve(sys, (np.pi/2, np.pi/2))\n",
    "    \n",
    "    alphaR = alphaR % (2*np.pi)\n",
    "    alphaL = alphaL % (2*np.pi)\n",
    "        \n",
    "    # Copmute FK for checking\n",
    "    x = w/2 + l1*np.cos(thetaR) + l2*np.cos(alphaR);\n",
    "    y = l1*np.sin(thetaR) + l2*np.sin(alphaR);\n",
    "\n",
    "    return (alphaR, alphaL, x, y)\n",
    "\n",
    "thetaR = .5\n",
    "thetaL = np.pi\n",
    "\n",
    "(alphaR, alphaL, x, y) = internal_angles(thetaR, thetaL)\n",
    "\n",
    "# Should produce\n",
    "# alphaL\n",
    "# Out[17]: 0.8878073988680342\n",
    "\n",
    "# alphaR\n",
    "# Out[18]: 2.611036674795031\n"
   ]
  },
  {
   "cell_type": "code",
   "execution_count": 39,
   "metadata": {},
   "outputs": [],
   "source": [
    "def draw_robot(thetaR, thetaL, link1 = l1, link2 = l2, width = w, ax = None):\n",
    "    \n",
    "    # Solve for internal angles\n",
    "    (alphaR, alphaL, x, y) = internal_angles(thetaR, thetaL)\n",
    "\n",
    "    def pol2cart(rho, phi):\n",
    "        x = rho * np.cos(phi)\n",
    "        y = rho * np.sin(phi)\n",
    "        return(x, y)\n",
    "\n",
    "    if ax is None:\n",
    "        ax = plt.gca()\n",
    "        ax.cla()\n",
    "    \n",
    "\n",
    "    ax.plot(-width/2, 0, 'ok')\n",
    "    ax.plot(width/2, 0, 'ok')\n",
    "\n",
    "    ax.plot([-width/2, 0], [0, 0], 'k')\n",
    "    ax.plot([width/2, 0], [0, 0], 'k')\n",
    "    \n",
    "    ax.plot(-width/2 + np.array([0, link1*np.cos(thetaL)]), [0, link1*np.sin(thetaL)], 'k')\n",
    "    ax.plot(width/2 + np.array([0, link1*np.cos(thetaR)]), [0, link1*np.sin(thetaR)], 'k')\n",
    "\n",
    "    ax.plot(-width/2 + link1*np.cos(thetaL) + np.array([0, link2*np.cos(alphaL)]), \\\n",
    "             link1*np.sin(thetaL) + np.array([0, link2*np.sin(alphaL)]), 'k');\n",
    "    \n",
    "    ax.plot(width/2 + link1*np.cos(thetaR) + np.array([0, link2*np.cos(alphaR)]), \\\n",
    "             np.array(link1*np.sin(thetaR) + np.array([0, link2*np.sin(alphaR)])), 'k');\n",
    "    \n",
    "    ax.plot(x, y, 'ro');\n",
    "# plt.set_aspect\n",
    "    ax.set_aspect('equal')\n",
    "#     plt.plot(x_end, y_end, 'go');\n",
    "\n",
    "    ax.axis([-.3,.3,-.1,.3])\n",
    "    \n",
    "thetaR = np.pi/4\n",
    "thetaL = 3*np.pi/4\n",
    "\n",
    "draw_robot(thetaR, thetaL)"
   ]
  },
  {
   "cell_type": "markdown",
   "metadata": {},
   "source": [
    "# Starter point for compliance control"
   ]
  },
  {
   "cell_type": "code",
   "execution_count": 160,
   "metadata": {},
   "outputs": [],
   "source": [
    "# x_eq = 0\n",
    "# y_eq = 0.1896167\n",
    "\n",
    "# k_x = 10\n",
    "# k_y = 10\n",
    "\n",
    "# k = np.array([[k_x, 0], \n",
    "#               [0, k_y]])\n",
    "\n",
    "def cartesian_compliance(x_disp, y_disp, J, theta_dot, C, K_T=0.0285):\n",
    "    \"\"\"\n",
    "    Implement the cartesian controller in this function. \n",
    "    This should return the motor currents as an array (i.e. the output of the matrix equation given in class)\n",
    "    \"\"\"\n",
    "    kx=2000\n",
    "    ky=2000\n",
    "    disp = np.array([[x_disp],[y_disp]])\n",
    "    #print(disp.shape)\n",
    "    k_matrix = np.array([[-1*kx, 0],[0, -1*ky]])\n",
    "    velocity = np.dot(J,theta_dot)\n",
    "    taus = np.dot(J.T, np.dot(k_matrix, disp[:,:,0]) - C*velocity)\n",
    "    currents = taus/K_T\n",
    "    \n",
    "    currents[0] = min(currents[0], 30)\n",
    "    currents[1] = min(currents[1], 30)\n",
    "    \n",
    "    return currents\n",
    "\n",
    "# cartesian_compliance(0,0)"
   ]
  },
  {
   "cell_type": "code",
   "execution_count": 126,
   "metadata": {},
   "outputs": [],
   "source": [
    "# IDLE\n",
    "odrv0.axis0.requested_state = odrive.enums.AXIS_STATE_IDLE\n",
    "odrv0.axis1.requested_state = odrive.enums.AXIS_STATE_IDLE"
   ]
  },
  {
   "cell_type": "code",
   "execution_count": 127,
   "metadata": {},
   "outputs": [
    {
     "name": "stdout",
     "output_type": "stream",
     "text": [
      "(886.234375, -572.765625)\n"
     ]
    }
   ],
   "source": [
    "## PUT LEG IN 0 CONFIGURATION\n",
    "zero_position = (odrv0.axis0.encoder.pos_estimate+4096, odrv0.axis1.encoder.pos_estimate)\n",
    "print(zero_position)\n",
    "\n",
    "equilibrium_pos = (zero_position[0] - 3072, zero_position[1] - 1024) #m0, m1\n"
   ]
  },
  {
   "cell_type": "code",
   "execution_count": 163,
   "metadata": {},
   "outputs": [
    {
     "name": "stdout",
     "output_type": "stream",
     "text": [
      "axis0\n",
      "  axis: \u001b[92;1mno error\u001b[0m\n",
      "  motor: \u001b[92;1mno error\u001b[0m\n",
      "  encoder: \u001b[92;1mno error\u001b[0m\n",
      "  controller: \u001b[92;1mno error\u001b[0m\n",
      "axis1\n",
      "  axis: \u001b[92;1mno error\u001b[0m\n",
      "  motor: \u001b[92;1mno error\u001b[0m\n",
      "  encoder: \u001b[92;1mno error\u001b[0m\n",
      "  controller: \u001b[92;1mno error\u001b[0m\n"
     ]
    }
   ],
   "source": [
    "odrive.utils.dump_errors(odrv0, True)\n",
    "odrv0.axis0.requested_state = odrive.enums.AXIS_STATE_CLOSED_LOOP_CONTROL\n",
    "odrv0.axis1.requested_state = odrive.enums.AXIS_STATE_CLOSED_LOOP_CONTROL\n",
    "odrv0.axis0.controller.set_pos_setpoint(equilibrium_pos[0],0,0)\n",
    "odrv0.axis1.controller.set_pos_setpoint(equilibrium_pos[1],0,0)"
   ]
  },
  {
   "cell_type": "code",
   "execution_count": 158,
   "metadata": {},
   "outputs": [
    {
     "name": "stdout",
     "output_type": "stream",
     "text": [
      "[[0.00025011]\n",
      " [0.18963967]]\n"
     ]
    }
   ],
   "source": [
    "\n",
    "theta_eq = get_joints(odrv0, zero_pos = zero_position)\n",
    "\n",
    "# xy_eq = FK.subs([(thetaL_sym,-1*theta_eq[0]), (thetaR_sym,-1*theta_eq[1]), (link1_sym,l1), (link2_sym,l2), (width_sym,w)])\n",
    "# print(xy_eq)\n",
    "xy_eq = FK_fast(-1*theta_eq[1], -1*theta_eq[0])\n",
    "print(xy_eq)"
   ]
  },
  {
   "cell_type": "code",
   "execution_count": 121,
   "metadata": {},
   "outputs": [
    {
     "name": "stdout",
     "output_type": "stream",
     "text": [
      "Matrix([[1.64111105928821e-5], [0.0623448660516133]])\n"
     ]
    }
   ],
   "source": [
    "thetaL, thetaR = get_joints(odrv0, zero_pos = zero_position)\n",
    "xy_new = FK.subs([(thetaL_sym,thetaL), (thetaR_sym,thetaR), (link1_sym,l1), (link2_sym,l2), (width_sym,w)])\n",
    "print(xy_new)"
   ]
  },
  {
   "cell_type": "code",
   "execution_count": 164,
   "metadata": {},
   "outputs": [],
   "source": [
    "start = time.time()\n",
    "time_passed=0\n",
    "\n",
    "\n",
    "C=60\n",
    "#time.sleep(2)\n",
    "while time_passed < 30:\n",
    "    \n",
    "    thetaL, thetaR = get_joints(odrv0, zero_pos = zero_position)\n",
    "    #xy_new = FK.subs([(thetaL_sym,thetaL*-1), (thetaR_sym,thetaR*-1), (link1_sym,l1), (link2_sym,l2), (width_sym,w)])\n",
    "    xy_new = FK_fast(-1*thetaR, -1*thetaL)\n",
    "    \n",
    "    x_disp = xy_new[0] - xy_eq[0]\n",
    "    y_disp = xy_new[1] - xy_eq[1]\n",
    "    \n",
    "    #J_new = J.subs([(thetaL_sym,thetaL*-1), (thetaR_sym,thetaR*-1), (link1_sym,l1), (link2_sym,l2), (width_sym,w)])\n",
    "    J_new = J_fast(-1*thetaR, -1*thetaL)\n",
    "    theta_R_dot = -1*odrv0.axis1.encoder.vel_estimate * 2 * np.pi / 8192\n",
    "    theta_L_dot = -1*odrv0.axis0.encoder.vel_estimate * 2 * np.pi / 8192\n",
    "    \n",
    "    theta_dot = np.array([[theta_R_dot],[theta_L_dot]])\n",
    "    current = cartesian_compliance(x_disp, y_disp, np.array(J_new).astype(np.float64), theta_dot, C, K_T=2.85)\n",
    "    current0 = current[0]\n",
    "    current1 = current[1]\n",
    "    \n",
    "    \n",
    "    odrv0.axis0.controller.set_current_setpoint(-1*current1)\n",
    "    odrv0.axis1.controller.set_current_setpoint(-1*current0)\n",
    "    time_passed = time.time() - start\n",
    "\n",
    "\n",
    "odrv0.axis0.requested_state = odrive.enums.AXIS_STATE_IDLE\n",
    "odrv0.axis1.requested_state = odrive.enums.AXIS_STATE_IDLE\n",
    "    "
   ]
  },
  {
   "cell_type": "code",
   "execution_count": 151,
   "metadata": {},
   "outputs": [],
   "source": [
    "def polar_compliance(r, theta_disp, theta_dot, J_polar):\n",
    "    \"\"\"\n",
    "    \n",
    "    Implement the polar controller in this function. \n",
    "    This should return the motor currents as an array (i.e. the output of the matrix equation given in class)\n",
    "    \"\"\"\n",
    "    \n",
    "    K_T = 2.85;                 # Nm / A\n",
    "    peak_amp = 30;              # A\n",
    "    peak_torque = K_T * peak_amp; # Nm\n",
    "    \n",
    "    Kr = 2000\n",
    "    Kt = 0\n",
    "    C = 5\n",
    "    \n",
    "    disp = np.array([[r],[theta_disp]])\n",
    "    k_matrix = np.array([[-1*Kr, 0],[0, -1*Kt]])\n",
    "    velocity_r = np.dot(J_polar,theta_dot)\n",
    "\n",
    "    #velocity_r = np.array([[np.sqrt(velocity[0,0]**2 + velocity[1,0]**2)],[np.arctan2(velocity[0,0],velocity[1,0])]])\n",
    "\n",
    "    #J_polar = np.array([[np.sign(J[0,0])*np.sqrt(J[0,0]**2 + J[1,0]**2), np.sign(J[0,1])*np.sqrt(J[0,1]**2 + J[1,1]**2)]\n",
    "    #                    ,[np.arctan2(J[0,0], J[1,0]), np.arctan2(J[0,1], J[1,1])]])\n",
    "    \n",
    "\n",
    "    taus = np.dot(k_matrix, disp) - C*velocity_r\n",
    "    taus = np.dot(J_polar.T, taus)\n",
    "    \n",
    "    currents = taus/K_T\n",
    "    \n",
    "\n",
    "    if currents[0] < 30:\n",
    "        if currents[0] < -30:\n",
    "            currents[0] = -30\n",
    "    else:\n",
    "        currents[0] = 30\n",
    "        \n",
    "    if currents[1] < 30:\n",
    "        if currents[1] < -30:\n",
    "            currents[1] = -30\n",
    "    else:\n",
    "        currents[1] = 30\n",
    "        \n",
    "    \n",
    "    return currents\n",
    "\n",
    "    "
   ]
  },
  {
   "cell_type": "code",
   "execution_count": 152,
   "metadata": {},
   "outputs": [
    {
     "name": "stdout",
     "output_type": "stream",
     "text": [
      "axis0\n",
      "  axis: \u001b[92;1mno error\u001b[0m\n",
      "  motor: \u001b[92;1mno error\u001b[0m\n",
      "  encoder: \u001b[92;1mno error\u001b[0m\n",
      "  controller: \u001b[92;1mno error\u001b[0m\n",
      "axis1\n",
      "  axis: \u001b[92;1mno error\u001b[0m\n",
      "  motor: \u001b[92;1mno error\u001b[0m\n",
      "  encoder: \u001b[92;1mno error\u001b[0m\n",
      "  controller: \u001b[92;1mno error\u001b[0m\n"
     ]
    }
   ],
   "source": [
    "odrive.utils.dump_errors(odrv0, True)\n",
    "odrv0.axis0.requested_state = odrive.enums.AXIS_STATE_CLOSED_LOOP_CONTROL\n",
    "odrv0.axis1.requested_state = odrive.enums.AXIS_STATE_CLOSED_LOOP_CONTROL\n",
    "odrv0.axis0.controller.set_pos_setpoint(equilibrium_pos[0],0,0)\n",
    "odrv0.axis1.controller.set_pos_setpoint(equilibrium_pos[1],0,0)"
   ]
  },
  {
   "cell_type": "code",
   "execution_count": 129,
   "metadata": {},
   "outputs": [
    {
     "name": "stdout",
     "output_type": "stream",
     "text": [
      "0.1896812881120742\n",
      "0.0007372481389231066\n"
     ]
    }
   ],
   "source": [
    "theta_eq = get_joints(odrv0, zero_pos = zero_position)\n",
    "\n",
    "xy_eq = FK.subs([(thetaL_sym,-1*theta_eq[0]), (thetaR_sym,-1*theta_eq[1]), (link1_sym,l1), (link2_sym,l2), (width_sym,w)])\n",
    "\n",
    "r_eq = np.sqrt(float(xy_eq[0])**2 + float(xy_eq[1])**2)\n",
    "theta_eq = np.arctan2(float(xy_eq[0]), float(xy_eq[1]))\n",
    "\n",
    "print(r_eq)\n",
    "print(theta_eq)\n"
   ]
  },
  {
   "cell_type": "code",
   "execution_count": 1,
   "metadata": {},
   "outputs": [
    {
     "ename": "NameError",
     "evalue": "name 'time' is not defined",
     "output_type": "error",
     "traceback": [
      "\u001b[1;31m---------------------------------------------------------------------------\u001b[0m",
      "\u001b[1;31mNameError\u001b[0m                                 Traceback (most recent call last)",
      "\u001b[1;32m<ipython-input-1-0e0024f1442b>\u001b[0m in \u001b[0;36m<module>\u001b[1;34m\u001b[0m\n\u001b[1;32m----> 1\u001b[1;33m \u001b[0mstart\u001b[0m \u001b[1;33m=\u001b[0m \u001b[0mtime\u001b[0m\u001b[1;33m.\u001b[0m\u001b[0mtime\u001b[0m\u001b[1;33m(\u001b[0m\u001b[1;33m)\u001b[0m\u001b[1;33m\u001b[0m\u001b[1;33m\u001b[0m\u001b[0m\n\u001b[0m\u001b[0;32m      2\u001b[0m \u001b[0mtime_passed\u001b[0m\u001b[1;33m=\u001b[0m\u001b[1;36m0\u001b[0m\u001b[1;33m\u001b[0m\u001b[1;33m\u001b[0m\u001b[0m\n\u001b[0;32m      3\u001b[0m \u001b[1;33m\u001b[0m\u001b[0m\n\u001b[0;32m      4\u001b[0m \u001b[1;31m#time.sleep(2)\u001b[0m\u001b[1;33m\u001b[0m\u001b[1;33m\u001b[0m\u001b[1;33m\u001b[0m\u001b[0m\n\u001b[0;32m      5\u001b[0m \u001b[1;32mwhile\u001b[0m \u001b[0mtime_passed\u001b[0m \u001b[1;33m<\u001b[0m \u001b[1;36m30\u001b[0m\u001b[1;33m:\u001b[0m\u001b[1;33m\u001b[0m\u001b[1;33m\u001b[0m\u001b[0m\n",
      "\u001b[1;31mNameError\u001b[0m: name 'time' is not defined"
     ]
    }
   ],
   "source": [
    "start = time.time()\n",
    "time_passed=0\n",
    "\n",
    "#time.sleep(2)\n",
    "while time_passed < 30:\n",
    "    \n",
    "    thetaL, thetaR = get_joints(odrv0, zero_pos = zero_position)\n",
    "    #xy_new = FK.subs([(thetaL_sym,thetaL*-1), (thetaR_sym,thetaR*-1), (link1_sym,l1), (link2_sym,l2), (width_sym,w)])\n",
    "    xy_new = FK_fast(thetaR*-1, thetaL * -1)\n",
    "    \n",
    "    r_new = np.sqrt(float(xy_new[0])**2 + float(xy_new[1])**2)\n",
    "    theta_new = np.arctan2(float(xy_new[0]), float(xy_new[1]))\n",
    "    \n",
    "    r_disp = r_new - r_eq\n",
    "    theta_disp = theta_new - theta_eq\n",
    "    \n",
    "    #J_new = J.subs([(thetaL_sym,thetaL*-1), (thetaR_sym,thetaR*-1), (link1_sym,l1), (link2_sym,l2), (width_sym,w)])\n",
    "    J_new = J_fast(thetaR*-1, thetaL * -1)\n",
    "    \n",
    "    theta_R_dot = -1*odrv0.axis1.encoder.vel_estimate * 2 * np.pi / 8192\n",
    "    theta_L_dot = -1*odrv0.axis0.encoder.vel_estimate * 2 * np.pi / 8192\n",
    "    \n",
    "    theta_dot = np.array([[theta_R_dot],[theta_L_dot]])\n",
    "    #J_pol = J_polar.subs([(thetaL_sym,thetaL*-1), (thetaR_sym,thetaR*-1), (link1_sym,l1), (link2_sym,l2), (width_sym,w)])\n",
    "    J_pol = J_pol_fast(thetaR*-1, thetaL * -1)\n",
    "    current = polar_compliance(r_disp, theta_disp, theta_dot, np.array(J_pol).astype(np.float64))\n",
    "    current0 = current[0]\n",
    "    current1 = current[1]\n",
    "\n",
    "    #print(current0, current1)\n",
    "    odrv0.axis0.controller.set_current_setpoint(-1*current1)\n",
    "    odrv0.axis1.controller.set_current_setpoint(-1*current0)\n",
    "    time_passed = time.time() - start\n",
    "\n",
    "\n",
    "odrv0.axis0.requested_state = odrive.enums.AXIS_STATE_IDLE\n",
    "odrv0.axis1.requested_state = odrive.enums.AXIS_STATE_IDLE\n",
    "    "
   ]
  },
  {
   "cell_type": "code",
   "execution_count": null,
   "metadata": {},
   "outputs": [],
   "source": [
    "# OLD tests\n",
    "\n",
    "start = time.time()\n",
    "time_passed=0\n",
    "\n",
    "thetaL, thetaR = get_joints(odrv0, zero_pos = zero_position)\n",
    "rtheta_eq = FK_polar.subs([(thetaL_sym,thetaL*-1), (thetaR_sym,thetaR*-1), (link1_sym,l1), (link2_sym,l2), (width_sym,w)])\n",
    "r_eq = rtheta_eq[0]\n",
    "theta_eq = rtheta_eq[1]\n",
    "\n",
    "C=0.001\n",
    "#time.sleep(2)\n",
    "while time_passed < 20:\n",
    "    \n",
    "    thetaL, thetaR = get_joints(odrv0, zero_pos = zero_position)\n",
    "    rtheta_new = FK_polar.subs([(thetaL_sym,thetaL*-1), (thetaR_sym,thetaR*-1), (link1_sym,l1), (link2_sym,l2), (width_sym,w)])\n",
    "    \n",
    "    #x_disp = float(xy_new[0] - xy_eq[0])\n",
    "    #y_disp = float(xy_new[1] - xy_eq[1])\n",
    "    \n",
    "    r_new = rtheta_new[0] #np.sqrt(float(xy_new[0])**2 + float(xy_new[1])**2)\n",
    "    #r_eq = np.sqrt(float(xy_eq[0])**2 + float(xy_eq[1])**2)\n",
    "    r_disp = r_new - r_eq\n",
    "    print(r_disp)\n",
    "    time.sleep(2)\n",
    "    theta_new = rtheta_new[1]  #np.arctan2(float(xy_new[0]), float(xy_new[1]))\n",
    "    #theta_eq = np.arctan2(float(xy_eq[0]), float(xy_eq[1]))\n",
    "    theta_disp = theta_new - theta_eq\n",
    "    J_new = J_polar.subs([(thetaL_sym,thetaL*-1), (thetaR_sym,thetaR*-1), (link1_sym,l1), (link2_sym,l2), (width_sym,w)])\n",
    "#     \n",
    "\n",
    "    theta_R_dot = -1*odrv0.axis1.encoder.vel_estimate * 2 * np.pi / 8192\n",
    "    theta_L_dot = -1*odrv0.axis0.encoder.vel_estimate * 2 * np.pi / 8192\n",
    "    \n",
    "    theta_dot = np.array([[theta_R_dot],[theta_L_dot]])\n",
    "\n",
    "    current = polar_compliance(r_disp, theta_disp, theta_dot, 20, 20, C, np.array(J_new).astype(np.float64))\n",
    "    #current = cartesian_compliance(x_disp, y_disp, np.array(J_new).astype(np.float64), theta_dot, C)\n",
    "    current0 = current[0]\n",
    "    current1 = current[1]\n",
    "    \n",
    "#     theta_R_dot = -1*odrv0.axis1.encoder.vel_estimate * 2 * np.pi / 8192\n",
    "#     theta_L_dot = -1*odrv0.axis0.encoder.vel_estimate * 2 * np.pi / 8192\n",
    "#     theta_dot = np.array([[theta_R_dot],[theta_L_dot]])\n",
    "    \n",
    "    \n",
    "    \n",
    "#     odrv0.axis0.controller.set_current_setpoint(-1*current1)\n",
    "#     odrv0.axis1.controller.set_current_setpoint(-1*current0)\n",
    "    time_passed = time.time() - start\n",
    "    #print(time_passed)\n",
    "\n",
    "\n",
    "#odrv0.axis0.controller.set_current_setpoint(0)\n",
    "#odrv0.axis1.controller.set_current_setpoint(0)\n",
    "odrv0.axis0.requested_state = odrive.enums.AXIS_STATE_IDLE\n",
    "odrv0.axis1.requested_state = odrive.enums.AXIS_STATE_IDLE\n",
    "    "
   ]
  },
  {
   "cell_type": "code",
   "execution_count": null,
   "metadata": {},
   "outputs": [],
   "source": [
    "# OLD tests\n",
    "\n",
    "odrv0.axis0.requested_state = odrive.enums.AXIS_STATE_CLOSED_LOOP_CONTROL\n",
    "odrv0.axis1.requested_state = odrive.enums.AXIS_STATE_CLOSED_LOOP_CONTROL\n",
    "\n",
    "start = time.time()\n",
    "time_passed=0\n",
    "\n",
    "encoder_eq = odrv0.axis1.encoder.pos_estimate\n",
    "\n",
    "\n",
    "while time_passed < 10:\n",
    "    \n",
    "    encoder_L = odrv0.axis1.encoder.pos_estimate\n",
    "    \n",
    "    theta_dot = odrv0.axis1.encoder.vel_estimate * 2 * np.pi / 8192\n",
    "    \n",
    "    delta_encoder = encoder_L - encoder_eq\n",
    "    \n",
    "    delta_theta = delta_encoder * 2 * np.pi / 8192\n",
    "    \n",
    "    current = polar_compliance(delta_theta, theta_dot, 2, 0.01)\n",
    "    \n",
    "    odrv0.axis1.controller.set_current_setpoint(current)\n",
    "    \n",
    "    time_passed = time.time() - start\n",
    "    #print(time_passed)\n",
    "    \n",
    "odrv0.axis1.controller.set_current_setpoint(0)\n",
    "    "
   ]
  },
  {
   "cell_type": "code",
   "execution_count": null,
   "metadata": {},
   "outputs": [],
   "source": [
    "odrv0.axis0.requested_state = odrive.enums.AXIS_STATE_CLOSED_LOOP_CONTROL\n",
    "odrv0.axis1.requested_state = odrive.enums.AXIS_STATE_CLOSED_LOOP_CONTROL\n",
    "\n",
    "odrv0.axis0.controller.set_pos_setpoint(2000,0,0)\n",
    "#odrv0.axis1.controller.set_pos_setpoint(-24236.765625,0,0)"
   ]
  },
  {
   "cell_type": "code",
   "execution_count": null,
   "metadata": {},
   "outputs": [],
   "source": [
    "odrive.utils.dump_errors(odrv0)"
   ]
  },
  {
   "cell_type": "code",
   "execution_count": null,
   "metadata": {},
   "outputs": [],
   "source": [
    "odrive.utils.dump_errors(odrv0, True)"
   ]
  },
  {
   "cell_type": "code",
   "execution_count": 124,
   "metadata": {},
   "outputs": [
    {
     "name": "stdout",
     "output_type": "stream",
     "text": [
      "Connected!\n",
      "Odrive serial 35760845828174\n",
      "Motor 0 calibrated: True\n",
      "Motor 1 calibrated: True\n"
     ]
    }
   ],
   "source": [
    "odrv0 = odrive.find_any()\n",
    "if odrv0 is not None:\n",
    "    print('Connected!')\n",
    "    print('Odrive serial {}'.format(odrv0.serial_number))\n",
    "    \n",
    "    m0 = odrv0.axis0.motor.is_calibrated\n",
    "    m1 = odrv0.axis1.motor.is_calibrated\n",
    "    \n",
    "    print('Motor 0 calibrated: {}'.format(m0))\n",
    "    print('Motor 1 calibrated: {}'.format(m1))    \n",
    "    \n",
    "else:\n",
    "    print('Not connected')"
   ]
  },
  {
   "cell_type": "code",
   "execution_count": 43,
   "metadata": {},
   "outputs": [],
   "source": [
    "odrv0.axis0.controller.config.vel_limit = 200000\n",
    "odrv0.axis1.controller.config.vel_limit = 200000"
   ]
  },
  {
   "cell_type": "code",
   "execution_count": null,
   "metadata": {},
   "outputs": [],
   "source": [
    "odrv0.axis0.requested_state = odrive.enums.AXIS_STATE_FULL_CALIBRATION_SEQUENCE\n",
    "odrv0.axis1.requested_state = odrive.enums.AXIS_STATE_FULL_CALIBRATION_SEQUENCE\n",
    "\n",
    "time.sleep(15)\n",
    "\n",
    "print('\\t Motor 0 calibration result: {} \\r\\n'.format(odrv0.axis0.motor.is_calibrated), \n",
    "      '\\t Motor 1 calibration result: {}'.format(odrv0.axis1.motor.is_calibrated))"
   ]
  },
  {
   "cell_type": "code",
   "execution_count": null,
   "metadata": {},
   "outputs": [],
   "source": [
    "odrv0.axis0.controller.set_current_setpoint(current_0)\n",
    "odrv0.axis1.controller.set_current_setpoint(current_1)"
   ]
  },
  {
   "cell_type": "code",
   "execution_count": null,
   "metadata": {},
   "outputs": [],
   "source": [
    "motor_cpr = (odrv0.axis0.encoder.config.cpr, \n",
    "             odrv0.axis1.encoder.config.cpr)\n",
    "\n",
    "print('encoder0: ', odrv0.axis0.encoder.pos_estimate)\n",
    "print('encoder1: ', odrv0.axis1.encoder.pos_estimate)\n",
    "\n",
    "def convert_joints(angles, cpr=motor_cpr, zero_pos = (0,0)):\n",
    "    encoder_vals = (angles * cpr[0] / (2 * np.pi)) + zero_pos\n",
    "    return encoder_vals"
   ]
  },
  {
   "cell_type": "code",
   "execution_count": 44,
   "metadata": {},
   "outputs": [
    {
     "name": "stdout",
     "output_type": "stream",
     "text": [
      "(-5.6143696836614465, 14.44455032575156)\n"
     ]
    }
   ],
   "source": [
    "motor_cpr = (odrv0.axis0.encoder.config.cpr, \n",
    "             odrv0.axis1.encoder.config.cpr)\n",
    "\n",
    "def get_joints(odrv, cpr = motor_cpr, zero_pos = (3863.234375,-26339.015625+4096)):\n",
    "    m0 = 2*np.pi*(odrv.axis0.encoder.pos_estimate - zero_pos[0])/motor_cpr[0]\n",
    "    m1 = 2*np.pi*(odrv.axis1.encoder.pos_estimate - zero_pos[1])/motor_cpr[1]\n",
    "    \n",
    "    return (m0, m1)\n",
    "\n",
    "print(get_joints(odrv0))"
   ]
  },
  {
   "cell_type": "code",
   "execution_count": null,
   "metadata": {},
   "outputs": [],
   "source": [
    "motor_cpr = (odrv0.axis0.encoder.config.cpr, \n",
    "             odrv0.axis1.encoder.config.cpr)\n",
    "\n",
    "def 1get_joints(odrv, cpr = motor_cpr, zero_pos = (3540.75 - 4096, -26342.015625)):\n",
    "    m0 = 2*np.pi*(odrv.axis0.encoder.pos_estimate - zero_pos[0])/motor_cpr[0]\n",
    "    m1 = 2*np.pi*(odrv.axis1.encoder.pos_estimate - zero_pos[1])/motor_cpr[1]\n",
    "    \n",
    "    return (m0, m1)\n",
    "\n",
    "print(get_joints(odrv0))"
   ]
  }
 ],
 "metadata": {
  "kernelspec": {
   "display_name": "Python 3",
   "language": "python",
   "name": "python3"
  },
  "language_info": {
   "codemirror_mode": {
    "name": "ipython",
    "version": 3
   },
   "file_extension": ".py",
   "mimetype": "text/x-python",
   "name": "python",
   "nbconvert_exporter": "python",
   "pygments_lexer": "ipython3",
   "version": "3.7.5"
  }
 },
 "nbformat": 4,
 "nbformat_minor": 4
}
