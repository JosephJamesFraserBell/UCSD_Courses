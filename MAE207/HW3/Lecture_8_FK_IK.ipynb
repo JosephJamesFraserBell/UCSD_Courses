{
 "cells": [
  {
   "cell_type": "markdown",
   "metadata": {},
   "source": [
    "# Robot leg kinematics"
   ]
  },
  {
   "cell_type": "code",
   "execution_count": 1,
   "metadata": {},
   "outputs": [],
   "source": [
    "import numpy as np\n",
    "\n",
    "import matplotlib as mpl\n",
    "mpl.use('Qt5Agg')\n",
    "\n",
    "import matplotlib.pyplot as plt\n",
    "plt.ion()\n",
    "\n",
    "# for the symbolic manipulation of jacobian\n",
    "import sympy as sp\n",
    "# from sympy import symbols\n",
    "# from sympy import sin, cos, asin, acos, pi, atan2, sqrt\n",
    "from sympy.utilities.lambdify import lambdify\n",
    "# from sympy import Matrix\n",
    "\n",
    "from scipy.optimize import minimize\n",
    "from scipy.optimize import fsolve"
   ]
  },
  {
   "cell_type": "code",
   "execution_count": 2,
   "metadata": {},
   "outputs": [],
   "source": [
    "## Motor constants\n",
    "K = 0.0285;                 # Nm / A\n",
    "peak_amp = 30;              # A\n",
    "peak_torque = K * peak_amp; # Nm\n",
    "m_motor = 0.2;              # kg\n",
    "m_assembly = 0.2;           # kg\n",
    "\n",
    "m_total = 2*m_motor + m_assembly; # kg\n",
    "\n",
    "gravity = 9.8;              # m/s^2\n",
    "\n",
    "weight = m_total * gravity  # N\n",
    "\n",
    "l1 = 0.09;                  # m \n",
    "l2 = 0.16;                  # m\n",
    "w = 0.07;                   # m\n"
   ]
  },
  {
   "cell_type": "markdown",
   "metadata": {},
   "source": [
    "## Closed chain forward kinematics\n",
    "\n",
    "First we define the leg geometry and derive the loop equations which represents the closed chain constraint on the 5-bar. \n",
    "\n",
    "![](leg_kinematics_2019.png)\n",
    "\n"
   ]
  },
  {
   "cell_type": "markdown",
   "metadata": {},
   "source": [
    "Define our symbolic variables"
   ]
  },
  {
   "cell_type": "code",
   "execution_count": 3,
   "metadata": {},
   "outputs": [],
   "source": [
    "# solve jacobian of constraint equation\n",
    "(thetaL_sym, \n",
    " thetaR_sym, \n",
    " link1_sym, \n",
    " link2_sym, \n",
    " width_sym) = sp.symbols(\"\"\"thetaL_sym \n",
    "                            thetaR_sym \n",
    "                            link1_sym \n",
    "                            link2_sym \n",
    "                            width_sym\"\"\", real = True)\n"
   ]
  },
  {
   "cell_type": "markdown",
   "metadata": {},
   "source": [
    "## Let's first derive the forwards kinematics of this robot leg\n",
    "\n",
    "The challenge here is to derive the forward kinematics *without* needing to know the internal angles. We can do this in the following way, we first solve for the \"tilt\" angle $\\theta_3$ and the base width $L$. We can then construct a series of transformations which take us to the toe position. \n",
    "\n",
    "![](FK_derivation.png)\n"
   ]
  },
  {
   "cell_type": "code",
   "execution_count": 4,
   "metadata": {},
   "outputs": [],
   "source": [
    "def T(theta, x, y):\n",
    "    \"\"\"\n",
    "    Function to return an arbitrary transformation matrix \n",
    "    This is for sympy symbolic calculation\n",
    "    \"\"\"\n",
    "    return sp.Matrix([[sp.cos(theta), -sp.sin(theta), x], \n",
    "                      [sp.sin(theta), sp.cos(theta), y],\n",
    "                      [0, 0, 1]])\n",
    "\n",
    "def sym_to_np(T):\n",
    "    return np.array(T).astype(np.float64)\n",
    "\n"
   ]
  },
  {
   "cell_type": "markdown",
   "metadata": {},
   "source": [
    "## FK Through transformation matrices"
   ]
  },
  {
   "cell_type": "code",
   "execution_count": 5,
   "metadata": {},
   "outputs": [
    {
     "data": {
      "text/latex": [
       "$\\displaystyle \\left[\\begin{matrix}\\frac{link_{1 sym} \\left(\\frac{\\left(\\sin{\\left(thetaL_{sym} \\right)} - \\sin{\\left(thetaR_{sym} \\right)}\\right) \\sqrt{2 link_{1 sym}^{2} \\cos{\\left(thetaL_{sym} - thetaR_{sym} \\right)} - 2 link_{1 sym}^{2} + 2 link_{1 sym} width_{sym} \\cos{\\left(thetaL_{sym} \\right)} - 2 link_{1 sym} width_{sym} \\cos{\\left(thetaR_{sym} \\right)} + 4 link_{2 sym}^{2} - width_{sym}^{2}}}{\\sqrt{- 2 link_{1 sym}^{2} \\cos{\\left(thetaL_{sym} - thetaR_{sym} \\right)} + 2 link_{1 sym}^{2} - 2 link_{1 sym} width_{sym} \\cos{\\left(thetaL_{sym} \\right)} + 2 link_{1 sym} width_{sym} \\cos{\\left(thetaR_{sym} \\right)} + width_{sym}^{2}}} + \\cos{\\left(thetaL_{sym} \\right)} + \\cos{\\left(thetaR_{sym} \\right)}\\right)}{2}\\\\\\frac{link_{1 sym} \\left(- \\sin{\\left(thetaL_{sym} \\right)} + \\sin{\\left(thetaR_{sym} \\right)}\\right)}{2} + link_{1 sym} \\sin{\\left(thetaL_{sym} \\right)} + \\frac{\\left(- link_{1 sym} \\cos{\\left(thetaL_{sym} \\right)} + link_{1 sym} \\cos{\\left(thetaR_{sym} \\right)} + width_{sym}\\right) \\sqrt{2 link_{1 sym}^{2} \\cos{\\left(thetaL_{sym} - thetaR_{sym} \\right)} - 2 link_{1 sym}^{2} + 2 link_{1 sym} width_{sym} \\cos{\\left(thetaL_{sym} \\right)} - 2 link_{1 sym} width_{sym} \\cos{\\left(thetaR_{sym} \\right)} + 4 link_{2 sym}^{2} - width_{sym}^{2}}}{2 \\sqrt{- 2 link_{1 sym}^{2} \\cos{\\left(thetaL_{sym} - thetaR_{sym} \\right)} + 2 link_{1 sym}^{2} - 2 link_{1 sym} width_{sym} \\cos{\\left(thetaL_{sym} \\right)} + 2 link_{1 sym} width_{sym} \\cos{\\left(thetaR_{sym} \\right)} + width_{sym}^{2}}}\\end{matrix}\\right]$"
      ],
      "text/plain": [
       "Matrix([\n",
       "[                                                                  link1_sym*((sin(thetaL_sym) - sin(thetaR_sym))*sqrt(2*link1_sym**2*cos(thetaL_sym - thetaR_sym) - 2*link1_sym**2 + 2*link1_sym*width_sym*cos(thetaL_sym) - 2*link1_sym*width_sym*cos(thetaR_sym) + 4*link2_sym**2 - width_sym**2)/sqrt(-2*link1_sym**2*cos(thetaL_sym - thetaR_sym) + 2*link1_sym**2 - 2*link1_sym*width_sym*cos(thetaL_sym) + 2*link1_sym*width_sym*cos(thetaR_sym) + width_sym**2) + cos(thetaL_sym) + cos(thetaR_sym))/2],\n",
       "[link1_sym*(-sin(thetaL_sym) + sin(thetaR_sym))/2 + link1_sym*sin(thetaL_sym) + (-link1_sym*cos(thetaL_sym) + link1_sym*cos(thetaR_sym) + width_sym)*sqrt(2*link1_sym**2*cos(thetaL_sym - thetaR_sym) - 2*link1_sym**2 + 2*link1_sym*width_sym*cos(thetaL_sym) - 2*link1_sym*width_sym*cos(thetaR_sym) + 4*link2_sym**2 - width_sym**2)/(2*sqrt(-2*link1_sym**2*cos(thetaL_sym - thetaR_sym) + 2*link1_sym**2 - 2*link1_sym*width_sym*cos(thetaL_sym) + 2*link1_sym*width_sym*cos(thetaR_sym) + width_sym**2))]])"
      ]
     },
     "execution_count": 5,
     "metadata": {},
     "output_type": "execute_result"
    }
   ],
   "source": [
    "x_r = width_sym/2 + link1_sym*sp.cos(thetaR_sym)\n",
    "x_l = -width_sym/2 + link1_sym*sp.cos(thetaL_sym)\n",
    "\n",
    "y_r = link1_sym*sp.sin(thetaR_sym)\n",
    "y_l = link1_sym*sp.sin(thetaL_sym)\n",
    "\n",
    "theta3_sym = sp.atan2(y_r - y_l, x_r - x_l)\n",
    "L = sp.sqrt((x_l - x_r)**2 + (y_l - y_r)**2)\n",
    "\n",
    "FK = T(thetaL_sym, -width_sym/2, 0)@T(-(thetaL_sym - theta3_sym), link1_sym, 0)@sp.Matrix([L/2, sp.sqrt(link2_sym**2 - (L/2)**2), 1])\n",
    "FK = FK[:2,:]\n",
    "FK.simplify()\n",
    "FK"
   ]
  },
  {
   "cell_type": "code",
   "execution_count": 6,
   "metadata": {},
   "outputs": [
    {
     "data": {
      "text/latex": [
       "$\\displaystyle \\left[\\begin{matrix}-0.104567022159455\\\\0.0117628839645655\\end{matrix}\\right]$"
      ],
      "text/plain": [
       "Matrix([\n",
       "[-0.104567022159455],\n",
       "[0.0117628839645655]])"
      ]
     },
     "execution_count": 6,
     "metadata": {},
     "output_type": "execute_result"
    }
   ],
   "source": [
    "xy = FK.subs([(link1_sym, l1), (link2_sym, l2), (width_sym, w), (thetaL_sym, 0/2), (thetaR_sym, np.pi/2)])\n",
    "xy\n",
    "\n",
    "\n",
    "\n",
    "# xy = FK.subs([(link1_sym, l1), (link2_sym, l2), (width_sym, w), (thetaR_sym, thetaR), (thetaL_sym, thetaL)]).evalf()"
   ]
  },
  {
   "cell_type": "code",
   "execution_count": null,
   "metadata": {},
   "outputs": [],
   "source": []
  },
  {
   "cell_type": "code",
   "execution_count": null,
   "metadata": {},
   "outputs": [],
   "source": []
  },
  {
   "cell_type": "markdown",
   "metadata": {},
   "source": [
    "## FK Through FSolve method"
   ]
  },
  {
   "cell_type": "code",
   "execution_count": 7,
   "metadata": {},
   "outputs": [
    {
     "name": "stdout",
     "output_type": "stream",
     "text": [
      "[-0.02402171  0.12411037]\n"
     ]
    }
   ],
   "source": [
    "from scipy.optimize import fsolve \n",
    "\n",
    "def constraint_eqn(xy_points, theta_R, theta_L, l1, l2, w):\n",
    "    x_pt = xy_points[0]\n",
    "    y_pt = xy_points[1]\n",
    "    \n",
    "    return (l1**2 - l2**2 + (x_pt - w/2)**2 + y_pt**2 - 2*l1 * (y_pt * np.sin(theta_R) + (x_pt - w/2)*np.cos(theta_R)),\n",
    "            l1**2 - l2**2 + (x_pt + w/2)**2 + y_pt**2 - 2*l1 * (y_pt * np.sin(theta_L) + (x_pt + w/2)*np.cos(theta_L)))\n",
    "\n",
    "\n",
    "thetaR = .5\n",
    "thetaL = np.pi\n",
    "\n",
    "out = fsolve(lambda x: constraint_eqn(x, thetaR, thetaL, l1, l2,w), (0, 0.1))\n",
    "\n",
    "print(out)\n"
   ]
  },
  {
   "cell_type": "code",
   "execution_count": 8,
   "metadata": {},
   "outputs": [
    {
     "data": {
      "text/plain": [
       "(-3.599551212651875e-17, -3.859759734048396e-17)"
      ]
     },
     "execution_count": 8,
     "metadata": {},
     "output_type": "execute_result"
    }
   ],
   "source": [
    "constraint_of_x = lambda x: constraint_eqn(x, thetaR, thetaL, l1, l2,w)\n",
    "\n",
    "\n",
    "constraint_of_x(out)\n"
   ]
  },
  {
   "cell_type": "markdown",
   "metadata": {},
   "source": [
    "## Double check the FK"
   ]
  },
  {
   "cell_type": "code",
   "execution_count": 9,
   "metadata": {},
   "outputs": [
    {
     "name": "stdout",
     "output_type": "stream",
     "text": [
      "Compare FK computed using the fsolve (top) and the direct (bottom) method: \n",
      " fzero --> x = -1.4919511438410443e-18 \t y = -0.06612494995995996 \n",
      " Symb ---> x = 5.51091059616309E-18 \t y = 0.246124949959960\n"
     ]
    }
   ],
   "source": [
    "thetaR = np.pi/2\n",
    "thetaL = np.pi/2\n",
    "\n",
    "# Using forward kinematics \n",
    "xy = FK.subs([(link1_sym, l1), (link2_sym, l2), (width_sym, w), (thetaR_sym, thetaR), (thetaL_sym, thetaL)]).evalf()\n",
    "\n",
    "\n",
    "# Using fsolve\n",
    "out = fsolve(lambda x: constraint_eqn(x, thetaR, thetaL, l1, l2, w), (0, -0.1))\n",
    "\n",
    "\n",
    "print(\"Compare FK computed using the fsolve (top) and the direct (bottom) method: \\r\\n fzero --> x = {} \\t y = {} \\r\\n Symb ---> x = {} \\t y = {}\".format(out[0], out[1], xy[0], xy[1]))"
   ]
  },
  {
   "cell_type": "code",
   "execution_count": 10,
   "metadata": {},
   "outputs": [],
   "source": [
    "def internal_angles(thetaR, thetaL, l1 = l1, l2 = l2, w = w):\n",
    "\n",
    "    # \n",
    "    # system_of_equations = @(x) sum(abs([w + l1*(cos(b1)-cos(a1)) + l2*(cos(x(2))-cos(x(1)));\n",
    "    #                                    l1*(sin(b1)-sin(a1)) + l2*(sin(x(2))-sin(x(1)))]));\n",
    "    # \n",
    "    # x_guess = [a1, b1 + pi/2];                               \n",
    "    # % [x,fval,exitflag,output] = fminsearch(system_of_equations, x_guess);\n",
    "    # [x,fval,exitflag,output] = fmincon(system_of_equations, ...\n",
    "    #                                    x_guess, ...\n",
    "    #                                    [], [], [], [], ...\n",
    "    #                                    [-pi, -pi], [pi, pi]);\n",
    "    # \n",
    "    # a2 = x(1);\n",
    "    # b2 = x(2);\n",
    "    # \n",
    "    # x = w/2 + l1*cos(b1) + l2*cos(b2);\n",
    "    # y = l1*sin(b1) + l2*sin(b2);\n",
    "\n",
    "    def sys(x): \n",
    "        return (w + l1*np.cos(thetaR) + l2*np.cos(x[0]) - l1*np.cos(thetaL) - l2*np.cos(x[1]),\n",
    "                l1*np.sin(thetaR) + l2*np.sin(x[0]) - l1*np.sin(thetaL) - l2*np.sin(x[1]))\n",
    "\n",
    "    alphaR, alphaL = fsolve(sys, (np.pi/2, np.pi/2))\n",
    "    \n",
    "    alphaR = alphaR % (2*np.pi)\n",
    "    alphaL = alphaL % (2*np.pi)\n",
    "        \n",
    "    # Copmute FK for checking\n",
    "    x = w/2 + l1*np.cos(thetaR) + l2*np.cos(alphaR);\n",
    "    y = l1*np.sin(thetaR) + l2*np.sin(alphaR);\n",
    "\n",
    "    return (alphaR, alphaL, x, y)\n",
    "\n",
    "thetaR = .5\n",
    "thetaL = np.pi\n",
    "\n",
    "(alphaR, alphaL, x, y) = internal_angles(thetaR, thetaL)\n",
    "\n",
    "# Should produce\n",
    "# alphaL\n",
    "# Out[17]: 0.8878073988680342\n",
    "\n",
    "# alphaR\n",
    "# Out[18]: 2.611036674795031\n"
   ]
  },
  {
   "cell_type": "markdown",
   "metadata": {},
   "source": [
    "## Double check the FK"
   ]
  },
  {
   "cell_type": "code",
   "execution_count": 11,
   "metadata": {},
   "outputs": [
    {
     "name": "stdout",
     "output_type": "stream",
     "text": [
      "Compare FK computed using the fsolve (top) and the direct (bottom) method: \n",
      " x = -0.008124629215593038 \t y = 0.10927098290031101 \n",
      " x = -0.00812462921557965 \t y = 0.109270982900330\n"
     ]
    }
   ],
   "source": [
    "thetaR = .2\n",
    "thetaL = np.pi\n",
    "\n",
    "# Using fzero method\n",
    "(alphaR, alphaL, x, y) = internal_angles(thetaR, thetaL)\n",
    "\n",
    "# Using forward kinematics \n",
    "xy = FK.subs([(link1_sym, l1), (link2_sym, l2), (width_sym, w), (thetaR_sym, thetaR), (thetaL_sym, thetaL)]).evalf()\n",
    "\n",
    "print(\"Compare FK computed using the fsolve (top) and the direct (bottom) method: \\r\\n x = {} \\t y = {} \\r\\n x = {} \\t y = {}\".format(x, y, xy[0], xy[1]))"
   ]
  },
  {
   "cell_type": "markdown",
   "metadata": {},
   "source": [
    "Define a helper function to draw the current robot"
   ]
  },
  {
   "cell_type": "code",
   "execution_count": 12,
   "metadata": {},
   "outputs": [],
   "source": [
    "def draw_robot(thetaR, thetaL, link1 = l1, link2 = l2, width = w, ax = False):\n",
    "    \n",
    "    # Solve for internal angles\n",
    "    (alphaR, alphaL, x, y) = internal_angles(thetaR, thetaL)\n",
    "\n",
    "    def pol2cart(rho, phi):\n",
    "        x = rho * np.cos(phi)\n",
    "        y = rho * np.sin(phi)\n",
    "        return(x, y)\n",
    "\n",
    "    if ax == False:\n",
    "        ax = plt.gca()\n",
    "        ax.cla()\n",
    "    \n",
    "\n",
    "    ax.plot(-width/2, 0, 'ok')\n",
    "    ax.plot(width/2, 0, 'ok')\n",
    "\n",
    "    ax.plot([-width/2, 0], [0, 0], 'k')\n",
    "    ax.plot([width/2, 0], [0, 0], 'k')\n",
    "    \n",
    "    ax.plot(-width/2 + np.array([0, link1*np.cos(thetaL)]), [0, link1*np.sin(thetaL)], 'k')\n",
    "    ax.plot(width/2 + np.array([0, link1*np.cos(thetaR)]), [0, link1*np.sin(thetaR)], 'k')\n",
    "\n",
    "    ax.plot(-width/2 + link1*np.cos(thetaL) + np.array([0, link2*np.cos(alphaL)]), \\\n",
    "             link1*np.sin(thetaL) + np.array([0, link2*np.sin(alphaL)]), 'k');\n",
    "    \n",
    "    ax.plot(width/2 + link1*np.cos(thetaR) + np.array([0, link2*np.cos(alphaR)]), \\\n",
    "             np.array(link1*np.sin(thetaR) + np.array([0, link2*np.sin(alphaR)])), 'k');\n",
    "    \n",
    "    ax.plot(x, y, 'ro');\n",
    "\n",
    "\n",
    "#     plt.plot(x_end, y_end, 'go');\n",
    "\n",
    "    ax.axis([-.3,.3,-.1,.3])\n",
    "    \n",
    "thetaR = .55\n",
    "thetaL = np.pi\n",
    "\n",
    "draw_robot(thetaR, thetaL)"
   ]
  },
  {
   "cell_type": "markdown",
   "metadata": {},
   "source": [
    "## Now lets implement IK just to have that taken care of\n",
    "\n",
    "We will use both the fzero method and the the optimize function of scipy to solve for the inverse kinematics, and to bias solutions to keep legs in the appropriate configuration. This works by choosing an optimization function to minimize subject to the IK constraint function. We "
   ]
  },
  {
   "cell_type": "markdown",
   "metadata": {},
   "source": [
    "## IK Through FZero method"
   ]
  },
  {
   "cell_type": "code",
   "execution_count": 65,
   "metadata": {},
   "outputs": [
    {
     "name": "stdout",
     "output_type": "stream",
     "text": [
      "[-0.56007415  2.44873959]\n"
     ]
    }
   ],
   "source": [
    "from scipy.optimize import fsolve \n",
    "\n",
    "def IK_constraint_eqn(x, x_pt, y_pt, l1, l2, w):\n",
    "    theta_R = x[0]\n",
    "    theta_L = x[1]\n",
    "    \n",
    "    return (l1**2 - l2**2 + (x_pt - w/2)**2 + y_pt**2 - 2*l1 * (y_pt * np.sin(theta_R) + (x_pt - w/2)*np.cos(theta_R)),\n",
    "            l1**2 - l2**2 + (x_pt + w/2)**2 + y_pt**2 - 2*l1 * (y_pt * np.sin(theta_L) + (x_pt + w/2)*np.cos(theta_L)))\n",
    "\n",
    "\n",
    "x_foot = 0.05\n",
    "y_foot = 0.1\n",
    "\n",
    "\n",
    "# 0,np.pi\n",
    "\n",
    "angles = fsolve(lambda x: IK_constraint_eqn(x, x_foot, y_foot, l1, l2,w), (0,np.pi))\n",
    "\n",
    "print(angles)\n",
    "\n",
    "plt.clf()\n",
    "plt.plot(x_foot, y_foot, 'o', markersize = 20)\n",
    "draw_robot(angles[0], angles[1], ax = plt.gca())\n",
    "\n"
   ]
  },
  {
   "cell_type": "code",
   "execution_count": 69,
   "metadata": {},
   "outputs": [
    {
     "name": "stdout",
     "output_type": "stream",
     "text": [
      "Compare the FK position (top) and the IK solution (bottom) method: \n",
      "          \n",
      " theta_R = 0.5000 \t theta_L = 3.1416 \n",
      " theta_R = 0.5000 \t theta_L = 3.1416\n"
     ]
    }
   ],
   "source": [
    "def IK_5_link(x, y, l1 = l1, l2 = l2, w = w):\n",
    "    \n",
    "    def leg_wide(var):\n",
    "        return np.linalg.norm([var[1] - np.pi, var[0]])\n",
    "    \n",
    "    def x_constraint_equation(var):\n",
    "        # should be equal to zero when the \n",
    "        return l1**2 - l2**2 + (x - w/2)**2 + y**2 - 2*l1*(y*np.sin(var[0]) + (x - w/2)*np.cos(var[0]))\n",
    "\n",
    "    def y_constraint_equation(var):\n",
    "        return l1**2 - l2**2 + (x + w/2)**2 + y**2 - 2*l1*(y*np.sin(var[1]) + (x + w/2)*np.cos(var[1]))\n",
    "\n",
    "    \n",
    "    res = minimize(leg_wide, (0.1, 9*np.pi/10), method=\"SLSQP\", constraints= ({\"type\": \"eq\", \"fun\": x_constraint_equation}, \n",
    "                                                                               {\"type\": \"eq\", \"fun\": y_constraint_equation}))\n",
    "    \n",
    "    return (res, np.linalg.norm([x_constraint_equation(res.x), y_constraint_equation(res.x)]))\n",
    "\n",
    "\n",
    "# Test, the following theta's correspond to the x-y below\n",
    "thetaR = .5\n",
    "thetaL = np.pi\n",
    "    \n",
    "x = -0.024021708847354217\n",
    "y = 0.12411037295149752\n",
    "\n",
    "res = IK_5_link(x, y)\n",
    "\n",
    "\n",
    "print(\"\"\"Compare the FK position (top) and the IK solution (bottom) method: \n",
    "          \\r\\n theta_R = {:.4f} \\t theta_L = {:.4f} \\r\\n theta_R = {:.4f} \\t theta_L = {:.4f}\"\"\".format(thetaR, thetaL, res[0].x[0], res[0].x[1]))"
   ]
  },
  {
   "cell_type": "markdown",
   "metadata": {},
   "source": [
    "## Now lets visualize the IK"
   ]
  },
  {
   "cell_type": "code",
   "execution_count": 67,
   "metadata": {},
   "outputs": [
    {
     "data": {
      "text/plain": [
       "[<matplotlib.lines.Line2D at 0x126c08048>]"
      ]
     },
     "execution_count": 67,
     "metadata": {},
     "output_type": "execute_result"
    }
   ],
   "source": [
    "# x_loc = -0.14;\n",
    "# y_loc = 0.02;\n",
    "\n",
    "\n",
    "x_loc = 0.1;\n",
    "y_loc = 0.1;\n",
    "\n",
    "res = IK_5_link(x_loc, y_loc)\n",
    "thetaR = res[0].x[0]\n",
    "thetaL = res[0].x[1]\n",
    "\n",
    "draw_robot(thetaR, thetaL)\n",
    "plt.plot(x_loc, y_loc, 'og', ms = 1)\n"
   ]
  },
  {
   "cell_type": "markdown",
   "metadata": {},
   "source": [
    "## click points to visualize"
   ]
  },
  {
   "cell_type": "code",
   "execution_count": 70,
   "metadata": {},
   "outputs": [],
   "source": [
    "thetaR = .5\n",
    "thetaL = np.pi\n",
    "\n",
    "fig, ax = plt.subplots()\n",
    "draw_robot(thetaR, thetaL, ax = ax)\n",
    "\n",
    "def onclick(event):\n",
    "    res = IK_5_link(event.xdata, event.ydata)\n",
    "    thetaR = res[0].x[0]\n",
    "    thetaL = res[0].x[1]\n",
    "    \n",
    "    ax.cla()\n",
    "    draw_robot(thetaR, thetaL, ax = ax)\n",
    "    plt.show()\n",
    "    plt.draw()\n",
    "    \n",
    "    plt.title(\"theta_R = {:.4f}, theta_L = {:.4f}, err = {:.4f}\".format(thetaR, thetaL, res[1]))\n",
    "\n",
    "   \n",
    "cid = fig.canvas.mpl_connect('button_press_event', onclick)\n",
    "\n",
    "# def onmotion(event):\n",
    "#     res = IK_5_link(event.xdata, event.ydata)\n",
    "#     thetaR = res[0].x[0]\n",
    "#     thetaL = res[0].x[1]\n",
    "    \n",
    "#     ax.cla()\n",
    "#     draw_robot(thetaR, thetaL, ax = ax)\n",
    "#     plt.show()\n",
    "#     plt.draw()\n",
    "    \n",
    "#     plt.title(\"theta_R = {:.4f}, theta_L = {:.4f}, err = {:.4f}\".format(thetaR, thetaL, res[1]))\n",
    "  \n",
    "# cid = fig.canvas.mpl_connect('motion_notify_event', onmotion)\n"
   ]
  },
  {
   "cell_type": "code",
   "execution_count": 12,
   "metadata": {},
   "outputs": [],
   "source": [
    "import pyglet\n",
    "\n",
    "def plot(l1 = l1, l2 = l2, w = w): \n",
    "  \n",
    "    l1 = l1*2000\n",
    "    l2 = l2*2000\n",
    "    w = w*2000\n",
    "    \n",
    "    # make our window for drawin'\n",
    "    window = pyglet.window.Window()\n",
    " \n",
    "    label = pyglet.text.Label('Mouse (x,y)', font_name='Times New Roman', \n",
    "        font_size=36, x=window.width//2, y=window.height//2,\n",
    "        anchor_x='center', anchor_y='center')\n",
    " \n",
    "    def get_joint_positions(thetaR, thetaL):\n",
    "        \"\"\"This method finds the (x,y) coordinates of each joint\"\"\"\n",
    "        (alphaR, alphaL, x, y) = internal_angles(thetaR, thetaL, l1 = l1, l2 = l2, w = w)\n",
    "        \n",
    "        \n",
    "        x = np.array([-w/2, -w/2 + l1*np.cos(thetaL), x, w/2+l1*np.cos(thetaR), w/2, -w/2]) + window.width/2\n",
    "        y = np.array([0, l1*np.sin(thetaL), y, l1*np.sin(thetaR), 0, 0])\n",
    "        \n",
    "        return np.array([x, y]).astype('int')\n",
    "     \n",
    "    window.jps = get_joint_positions(0,0)\n",
    " \n",
    "    @window.event\n",
    "    def on_draw():\n",
    "        window.clear()\n",
    "        label.draw()\n",
    "        for i in range(4): \n",
    "            pyglet.graphics.draw(2, pyglet.gl.GL_LINES, ('v2i', \n",
    "                (window.jps[0][i], window.jps[1][i], \n",
    "                 window.jps[0][i+1], window.jps[1][i+1])))\n",
    " \n",
    "    @window.event\n",
    "    def on_mouse_motion(x, y, dx, dy):\n",
    "        # call the inverse kinematics function of the arm\n",
    "        # to find the joint angles optimal for pointing at \n",
    "        # this position of the mouse \n",
    "        label.text = '(x,y) = (%.3f, %.3f)'%(x,y)\n",
    "        \n",
    "        res = IK_5_link(x - window.width/2, y)\n",
    "        thetaR = res[0].x[0]\n",
    "        thetaL = res[0].x[1]\n",
    "\n",
    "        res = IK_5_link(x - window.width/2, y, l1 = l1, l2 = l2, w = w) # get new arm angles\n",
    "        window.jps = get_joint_positions(res[0].x[0], res[0].x[1]) # get new joint (x,y) positions\n",
    " \n",
    "    pyglet.app.run()\n",
    " \n",
    "plot(l1 = l1, l2 = l2, w = w)"
   ]
  },
  {
   "cell_type": "code",
   "execution_count": 63,
   "metadata": {},
   "outputs": [],
   "source": [
    "%qtconsole"
   ]
  },
  {
   "cell_type": "markdown",
   "metadata": {},
   "source": [
    "# HW 2 solutions"
   ]
  },
  {
   "cell_type": "markdown",
   "metadata": {},
   "source": [
    "# OK all looks good, now lets solve for the Jacobian and compute the design metrics\n",
    "\n",
    "The Jacobian maps the two joint velocities to world velocity\n",
    "\n"
   ]
  },
  {
   "cell_type": "code",
   "execution_count": 20,
   "metadata": {},
   "outputs": [],
   "source": [
    "xy = FK.subs([(link1_sym, l1), (link2_sym, l2), (width_sym, w)]).evalf()\n",
    "\n",
    "J = xy.jacobian([thetaR_sym, thetaL_sym]).evalf()\n",
    "J = lambdify((thetaR_sym, thetaL_sym), J)"
   ]
  },
  {
   "cell_type": "markdown",
   "metadata": {},
   "source": [
    "First thing lets examine the manipulability metrics"
   ]
  },
  {
   "cell_type": "code",
   "execution_count": 22,
   "metadata": {},
   "outputs": [],
   "source": [
    "x = 0\n",
    "y = 0.2\n",
    "\n",
    "res = IK_5_link(x, y)\n",
    "thetaR = res[0].x[0]\n",
    "thetaL = res[0].x[1]\n",
    "\n",
    "fig, ax = plt.subplots()\n",
    "draw_robot(thetaR, thetaL, ax = ax)\n",
    "\n",
    "def onclick(event):\n",
    "    x = event.xdata\n",
    "    y = event.ydata\n",
    "\n",
    "    res = IK_5_link(x, y)\n",
    "    thetaR = res[0].x[0]\n",
    "    thetaL = res[0].x[1]\n",
    "\n",
    "    J_current = J(thetaR,thetaL)\n",
    "\n",
    "    u, s, v = np.linalg.svd(J_current)\n",
    "\n",
    "    ax.cla()\n",
    "    draw_robot(thetaR, thetaL, ax = ax)\n",
    "\n",
    "    ang = 180*np.arctan2(u[1,0], u[0,0])/np.pi\n",
    "    ell = mpl.patches.Ellipse(xy=(x,y), width=s[0], height=s[1], angle = ang, alpha = 0.5)\n",
    "    ax.add_patch(ell)\n",
    "\n",
    "    plt.quiver(x, y, J_current[0,0], J_current[1,0], scale = 1, color = 'r')\n",
    "\n",
    "    plt.quiver(x, y, J_current[0,1], J_current[1,1], scale = 1, color = 'b')\n",
    "\n",
    "    #     plt.quiver(x, y, s[0]*u[0,0], s[0]*u[1,0], scale = 1, color = 'r')\n",
    "    #     plt.quiver(x, y, -s[0]*u[0,0], -s[0]*u[1,0], scale = 1, color = 'r')\n",
    "\n",
    "    #     plt.quiver(x, y, s[1]*u[0,1], s[1]*u[1,1], scale = 1, color = 'b')\n",
    "    #     plt.quiver(x, y, -s[1]*u[0,1], -s[1]*u[1,1], scale = 1, color = 'b')\n",
    "\n",
    "\n",
    "    plt.show()\n",
    "    plt.draw()\n",
    "\n",
    "    plt.title(\"theta_R = {:.4f}, theta_L = {:.4f}, err = {:.4f}\".format(thetaR, thetaL, res[1]))\n",
    "\n",
    "   \n",
    "cid = fig.canvas.mpl_connect('button_press_event', onclick)\n",
    "\n"
   ]
  },
  {
   "cell_type": "code",
   "execution_count": null,
   "metadata": {},
   "outputs": [],
   "source": [
    "q1 = np.linspace(-np.pi, np.pi, 100)\n",
    "q2 = np.linspace(-np.pi, np.pi, 100)\n",
    "\n",
    "workspace = np.zeros((q1.shape[0], q2.shape[0], 2))\n",
    "\n",
    "\n",
    "for j, q1_ang in enumerate(q1):\n",
    "    for k, q2_ang in enumerate(q2):\n",
    "\n",
    "        workspace[j,k, :] = sym_to_np(FK.subs([(thetaL_sym, q1_ang), \n",
    "                                                (thetaR_sym, q2_ang),\n",
    "                                                (link1_sym, l1), \n",
    "                                                (link2_sym, l2), \n",
    "                                                (width_sym, w)]).evalf()).T\n",
    "        \n",
    "    print(j)\n",
    "        "
   ]
  },
  {
   "cell_type": "markdown",
   "metadata": {},
   "source": [
    "## Plot out the (approximate) workspace"
   ]
  },
  {
   "cell_type": "code",
   "execution_count": 27,
   "metadata": {},
   "outputs": [],
   "source": [
    "plt.clf()\n",
    "plt.plot(np.ravel(workspace[:,:,0]), np.ravel(workspace[:,:,1]), 'o')\n",
    "plt.xlabel('x (cm)')\n",
    "plt.ylabel('y (cm)')\n",
    "plt.gca().set_aspect('equal')"
   ]
  },
  {
   "cell_type": "markdown",
   "metadata": {},
   "source": [
    "## One shot compute quantities"
   ]
  },
  {
   "cell_type": "code",
   "execution_count": 45,
   "metadata": {},
   "outputs": [
    {
     "data": {
      "text/plain": [
       "<matplotlib.text.Text at 0x12a7b6940>"
      ]
     },
     "execution_count": 45,
     "metadata": {},
     "output_type": "execute_result"
    }
   ],
   "source": [
    "x = 0\n",
    "y = 0.2\n",
    "\n",
    "res = IK_5_link(x, y)\n",
    "thetaR = res[0].x[0]\n",
    "thetaL = res[0].x[1]\n",
    "\n",
    "fig, ax = plt.subplots()\n",
    "draw_robot(thetaR, thetaL, ax = ax)\n",
    "\n",
    "\n",
    "res = IK_5_link(x, y)\n",
    "thetaR = res[0].x[0]\n",
    "thetaL = res[0].x[1]\n",
    "\n",
    "J_current = J(thetaR,thetaL)\n",
    "\n",
    "u, s, v = np.linalg.svd(J_current)\n",
    "\n",
    "ax.cla()\n",
    "draw_robot(thetaR, thetaL, ax = ax)\n",
    "\n",
    "ang = 180*np.arctan2(u[1,0], u[0,0])/np.pi\n",
    "ell = mpl.patches.Ellipse(xy=(x,y), width=s[0], height=s[1], angle = ang, alpha = 0.5)\n",
    "ax.add_patch(ell)\n",
    "\n",
    "plt.quiver(x, y, J_current[0,0], J_current[1,0], scale = 1, color = 'r')\n",
    "\n",
    "plt.quiver(x, y, J_current[0,1], J_current[1,1], scale = 1, color = 'b')\n",
    "\n",
    "\n",
    "plt.show()\n",
    "plt.draw()\n",
    "\n",
    "plt.title(\"theta_R = {:.4f}, theta_L = {:.4f}, err = {:.4f}\".format(thetaR, thetaL, res[1]))\n"
   ]
  },
  {
   "cell_type": "markdown",
   "metadata": {},
   "source": [
    "## Compute quantities"
   ]
  },
  {
   "cell_type": "code",
   "execution_count": 28,
   "metadata": {},
   "outputs": [],
   "source": [
    "xx = np.linspace(-.3, .3, 100)\n",
    "yy = np.linspace(.0, .35, 50)\n",
    "\n",
    "force_x = np.zeros((yy.shape[0], xx.shape[0]))\n",
    "force_y = np.zeros((yy.shape[0], xx.shape[0]))\n",
    "\n",
    "proprioception = np.zeros((yy.shape[0], xx.shape[0]))\n",
    "force_production = np.zeros((yy.shape[0], xx.shape[0]))\n",
    "workspace = np.zeros((yy.shape[0], xx.shape[0]))\n",
    "\n",
    "for k, x in enumerate(xx):\n",
    "    for j, y in enumerate(yy):\n",
    "\n",
    "        res = IK_5_link(x, y)\n",
    "        thetaR = res[0].x[0]\n",
    "        thetaL = res[0].x[1]\n",
    "        \n",
    "        if res[0].success == False:\n",
    "            continue\n",
    "        \n",
    "        workspace[j,k] = 1\n",
    "        \n",
    "        J_current = J(thetaR,thetaL)\n",
    "\n",
    "        u, s, v = np.linalg.svd(J_current)\n",
    "        \n",
    "        proprioception[j, k] = s[1]\n",
    "        force_production[j, k] = s[0]\n",
    "        \n",
    "        force = K * (np.array([[1, -1]]) @ np.linalg.inv(J_current)).T\n",
    "        \n",
    "        force_y[j, k] = force[1]\n",
    "        force_x[j, k] = force[0]\n",
    "        \n",
    "#     print(k)"
   ]
  },
  {
   "cell_type": "code",
   "execution_count": null,
   "metadata": {},
   "outputs": [],
   "source": [
    "xx = np.linspace(-.135, .135, 100)\n",
    "yy = np.linspace(.0, .25, 50)\n",
    "\n",
    "force_x = np.zeros((yy.shape[0], xx.shape[0]))\n",
    "force_y = np.zeros((yy.shape[0], xx.shape[0]))\n",
    "\n",
    "workspace = np.zeros((yy.shape[0], xx.shape[0]))\n",
    "\n",
    "for k, x in enumerate(xx):\n",
    "    for j, y in enumerate(yy):\n",
    "\n",
    "        res = IK_5_link(x, y)\n",
    "        thetaR = res[0].x[0]\n",
    "        thetaL = res[0].x[1]\n",
    "        \n",
    "        if res[0].success == False:\n",
    "            continue\n",
    "        \n",
    "        workspace[j,k] = 1\n",
    "        \n",
    "    print(k)"
   ]
  },
  {
   "cell_type": "code",
   "execution_count": 29,
   "metadata": {},
   "outputs": [
    {
     "data": {
      "text/plain": [
       "<matplotlib.image.AxesImage at 0x1024b8ff60>"
      ]
     },
     "execution_count": 29,
     "metadata": {},
     "output_type": "execute_result"
    }
   ],
   "source": [
    "\n",
    "plt.clf()\n",
    "plt.imshow(workspace)"
   ]
  },
  {
   "cell_type": "markdown",
   "metadata": {},
   "source": [
    "## Compute peak vertical force / mass\n"
   ]
  },
  {
   "cell_type": "code",
   "execution_count": null,
   "metadata": {},
   "outputs": [],
   "source": [
    "yy = np.linspace(.06, .25, 50)\n",
    "force_y = np.zeros((yy.shape[0],1))\n",
    "\n",
    "for j, y in enumerate(yy):\n",
    "    res = IK_5_link(x, y)\n",
    "    thetaR = res[0].x[0]\n",
    "    thetaL = res[0].x[1]\n",
    "\n",
    "    if res[1] > 0.0001: \n",
    "        continue\n",
    "\n",
    "    J_current = J(thetaR,thetaL)\n",
    "\n",
    "    force = K * (np.array([[1, -1]]) @ np.linalg.inv(J_current)).T\n",
    "    \n",
    "    force_y[j] = force[1]\n",
    "    \n",
    "    print(j)\n",
    "    \n"
   ]
  },
  {
   "cell_type": "code",
   "execution_count": null,
   "metadata": {},
   "outputs": [],
   "source": [
    "plt"
   ]
  }
 ],
 "metadata": {
  "kernelspec": {
   "display_name": "Python 3",
   "language": "python",
   "name": "python3"
  },
  "language_info": {
   "codemirror_mode": {
    "name": "ipython",
    "version": 3
   },
   "file_extension": ".py",
   "mimetype": "text/x-python",
   "name": "python",
   "nbconvert_exporter": "python",
   "pygments_lexer": "ipython3",
   "version": "3.7.5"
  }
 },
 "nbformat": 4,
 "nbformat_minor": 4
}
