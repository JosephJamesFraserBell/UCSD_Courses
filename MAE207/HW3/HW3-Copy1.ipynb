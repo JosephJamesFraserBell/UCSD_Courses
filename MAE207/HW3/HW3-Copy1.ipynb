{
 "cells": [
  {
   "cell_type": "code",
   "execution_count": 1,
   "metadata": {},
   "outputs": [],
   "source": [
    "import numpy as np\n",
    "\n",
    "import matplotlib as mpl\n",
    "mpl.use('Qt5Agg')\n",
    "\n",
    "import matplotlib.pyplot as plt\n",
    "plt.ion()\n",
    "\n",
    "# for the symbolic manipulation of jacobian\n",
    "import sympy as sp\n",
    "# from sympy import symbols\n",
    "# from sympy import sin, cos, asin, acos, pi, atan2, sqrt\n",
    "from sympy.utilities.lambdify import lambdify\n",
    "# from sympy import Matrix\n",
    "\n",
    "from scipy.optimize import minimize\n",
    "from scipy.optimize import fsolve"
   ]
  },
  {
   "cell_type": "markdown",
   "metadata": {},
   "source": [
    "## Part 1\n",
    "Provide plots of the joint-angles versus time for the following gait parameters."
   ]
  },
  {
   "cell_type": "markdown",
   "metadata": {},
   "source": [
    "<img src=\"MAE207 HW3 Gait1.png\">"
   ]
  },
  {
   "cell_type": "markdown",
   "metadata": {},
   "source": [
    "<img src=\"MAE207 HW3 Gait2.png\">"
   ]
  },
  {
   "cell_type": "markdown",
   "metadata": {},
   "source": [
    "<img src=\"MAE 207 HW3 Gait3.png\">"
   ]
  },
  {
   "cell_type": "markdown",
   "metadata": {},
   "source": [
    "The below code was used to generate these plots.  The get_gait function takes xy coordinates and returns joint angles"
   ]
  },
  {
   "cell_type": "code",
   "execution_count": 2,
   "metadata": {},
   "outputs": [],
   "source": [
    "l1 = 0.09;                  \n",
    "l2 = 0.16;              \n",
    "w = 0.07;   "
   ]
  },
  {
   "cell_type": "code",
   "execution_count": 3,
   "metadata": {},
   "outputs": [],
   "source": [
    "# solve jacobian of constraint equation\n",
    "(thetaL_sym, \n",
    " thetaR_sym, \n",
    " link1_sym, \n",
    " link2_sym, \n",
    " width_sym) = sp.symbols(\"\"\"thetaL_sym \n",
    "                            thetaR_sym \n",
    "                            link1_sym \n",
    "                            link2_sym \n",
    "                            width_sym\"\"\", real = True)"
   ]
  },
  {
   "cell_type": "code",
   "execution_count": 4,
   "metadata": {},
   "outputs": [],
   "source": [
    "def T(theta, x, y):\n",
    "    \"\"\"\n",
    "    Function to return an arbitrary transformation matrix \n",
    "    This is for sympy symbolic calculation\n",
    "    \"\"\"\n",
    "    return sp.Matrix([[sp.cos(theta), -sp.sin(theta), x], \n",
    "                      [sp.sin(theta), sp.cos(theta), y],\n",
    "                      [0, 0, 1]])\n",
    "\n",
    "def sym_to_np(T):\n",
    "    return np.array(T).astype(np.float64)"
   ]
  },
  {
   "cell_type": "code",
   "execution_count": 5,
   "metadata": {},
   "outputs": [
    {
     "data": {
      "text/plain": [
       "Matrix([\n",
       "[                                                                  link1_sym*((sin(thetaL_sym) - sin(thetaR_sym))*sqrt(2*link1_sym**2*cos(thetaL_sym - thetaR_sym) - 2*link1_sym**2 + 2*link1_sym*width_sym*cos(thetaL_sym) - 2*link1_sym*width_sym*cos(thetaR_sym) + 4*link2_sym**2 - width_sym**2)/sqrt(-2*link1_sym**2*cos(thetaL_sym - thetaR_sym) + 2*link1_sym**2 - 2*link1_sym*width_sym*cos(thetaL_sym) + 2*link1_sym*width_sym*cos(thetaR_sym) + width_sym**2) + cos(thetaL_sym) + cos(thetaR_sym))/2],\n",
       "[link1_sym*(-sin(thetaL_sym) + sin(thetaR_sym))/2 + link1_sym*sin(thetaL_sym) + (-link1_sym*cos(thetaL_sym) + link1_sym*cos(thetaR_sym) + width_sym)*sqrt(2*link1_sym**2*cos(thetaL_sym - thetaR_sym) - 2*link1_sym**2 + 2*link1_sym*width_sym*cos(thetaL_sym) - 2*link1_sym*width_sym*cos(thetaR_sym) + 4*link2_sym**2 - width_sym**2)/(2*sqrt(-2*link1_sym**2*cos(thetaL_sym - thetaR_sym) + 2*link1_sym**2 - 2*link1_sym*width_sym*cos(thetaL_sym) + 2*link1_sym*width_sym*cos(thetaR_sym) + width_sym**2))]])"
      ]
     },
     "execution_count": 5,
     "metadata": {},
     "output_type": "execute_result"
    }
   ],
   "source": [
    "#  get forward kinematics of 5-bar leg\n",
    "\n",
    "x_r = width_sym/2 + link1_sym*sp.cos(thetaR_sym)\n",
    "x_l = -width_sym/2 + link1_sym*sp.cos(thetaL_sym)\n",
    "\n",
    "y_r = link1_sym*sp.sin(thetaR_sym)\n",
    "y_l = link1_sym*sp.sin(thetaL_sym)\n",
    "\n",
    "theta3_sym = sp.atan2(y_r - y_l, x_r - x_l)\n",
    "L = sp.sqrt((x_l - x_r)**2 + (y_l - y_r)**2)\n",
    "\n",
    "FK = T(thetaL_sym, -width_sym/2, 0)@T(-(thetaL_sym - theta3_sym), link1_sym, 0)@sp.Matrix([L/2, sp.sqrt(link2_sym**2 - (L/2)**2), 1])\n",
    "FK = FK[:2,:]\n",
    "FK.simplify()\n",
    "FK"
   ]
  },
  {
   "cell_type": "code",
   "execution_count": 6,
   "metadata": {},
   "outputs": [
    {
     "name": "stdout",
     "output_type": "stream",
     "text": [
      "(     fun: 0.3296908309475615\n",
      "     jac: array([ 0.30331449, -0.95289052])\n",
      " message: 'More equality constraints than independent variables'\n",
      "    nfev: 4\n",
      "     nit: 1\n",
      "    njev: 1\n",
      "  status: 2\n",
      " success: False\n",
      "       x: array([0.1       , 2.82743339]), 1.1907007771827451)\n"
     ]
    }
   ],
   "source": [
    "# function for getting Inverse Kinematics of 5-link leg\n",
    "def IK_5_link(x, y, l1 = l1, l2 = l2, w = w):\n",
    "    \n",
    "    def leg_wide(var):\n",
    "        return np.linalg.norm([var[1] - np.pi, var[0]])\n",
    "    \n",
    "    def x_constraint_equation(var):\n",
    "        # should be equal to zero when the \n",
    "        return l1**2 - l2**2 + (x - w/2)**2 + y**2 - 2*l1*(y*np.sin(var[0]) + (x - w/2)*np.cos(var[0]))\n",
    "\n",
    "    def y_constraint_equation(var):\n",
    "        return l1**2 - l2**2 + (x + w/2)**2 + y**2 - 2*l1*(y*np.sin(var[1]) + (x + w/2)*np.cos(var[1]))\n",
    "\n",
    "    \n",
    "    res = minimize(leg_wide, (0.1, 9*np.pi/10), method=\"SLSQP\", constraints= ({\"type\": \"eq\", \"fun\": x_constraint_equation}, \n",
    "                                                                               {\"type\": \"eq\", \"fun\": y_constraint_equation}))\n",
    "    \n",
    "    return (res, np.linalg.norm([x_constraint_equation(res.x), y_constraint_equation(res.x)]))\n",
    "\n",
    "x = np.array([-.10, -.9])\n",
    "y = np.array([.10, .11])\n",
    "\n",
    "res = IK_5_link(x,y)\n",
    "print(res)"
   ]
  },
  {
   "cell_type": "code",
   "execution_count": 114,
   "metadata": {},
   "outputs": [],
   "source": [
    "# function that returns joint angles required for gait made up of a line and parabola\n",
    "def get_gait(coords, d=0.5, T=0.25, N=100):\n",
    "    \n",
    "    xy_coords = []\n",
    "    \n",
    "    x_coords = coords[:, 0]\n",
    "    y_coords = coords[:,1]\n",
    "    \n",
    "    lin_eqn = np.poly1d(np.polyfit(x_coords[:2], y_coords[:2], deg=1))\n",
    "    \n",
    "    parab_eqn = np.poly1d(np.polyfit(x_coords, y_coords, deg=2))\n",
    "    \n",
    "    lin_ticks = d * N\n",
    "    parab_ticks = N - lin_ticks\n",
    "    \n",
    "    # get line coordinates\n",
    "    \n",
    "    line_dist = np.sqrt((coords[0,0] - coords[1,0])**2 + (coords[0,1] - coords[1,1])**2)\n",
    "    dist_per_tick = line_dist / lin_ticks\n",
    "\n",
    "    line_angle = np.arcsin(np.abs(coords[0,1] - coords[1,1]) / line_dist)\n",
    "\n",
    "    direction = 1\n",
    "    if x_coords[1] < x_coords[0]:\n",
    "        direction = -1\n",
    "    \n",
    "    start = [coords[0,0], coords[0,1]]\n",
    "    xy_coords.append(start)\n",
    "    \n",
    "    for i in range(int(lin_ticks)):\n",
    "        x_prev = xy_coords[i][0]\n",
    "        y_prev = xy_coords[i][1]\n",
    "        x_new = x_prev + direction * dist_per_tick * np.cos(line_angle)\n",
    "        y_new = lin_eqn(x_new)\n",
    "        \n",
    "        xy_coords.append([x_new, y_new])\n",
    "      \n",
    "    # get parabola coordinates\n",
    "    \n",
    "    x_change = np.abs((coords[0,0] - coords[1,0])) / parab_ticks\n",
    "    x_start = coords[1,0] - direction * x_change\n",
    "    y_start = parab_eqn(x_start)\n",
    "    start = [x_start, y_start]\n",
    "    ind_start = len(xy_coords)\n",
    "\n",
    "    xy_coords.append(start)\n",
    "    \n",
    "    for i in range(int(parab_ticks - 1)):\n",
    "        x_prev = xy_coords[i+ind_start][0]\n",
    "        y_prev = xy_coords[i+ind_start][1]\n",
    "        \n",
    "        x_new = x_prev - direction*x_change\n",
    "        y_new = parab_eqn(x_new)\n",
    "        \n",
    "        xy_coords.append([x_new, y_new])\n",
    "    \n",
    "    \n",
    "    joint_angles = [] \n",
    "    # Convert xy points to joint angles \n",
    "    for i in range(len(xy_coords)):\n",
    "        x = xy_coords[i][0]\n",
    "        y = xy_coords[i][1]\n",
    "        res = IK_5_link(x,y)\n",
    "        \n",
    "        joint_angles.append([res[0].x[0],res[0].x[1]])\n",
    "    \n",
    "    \n",
    "    xy_coords_array = np.array(xy_coords)\n",
    "    joint_angles_array = np.array(joint_angles)\n",
    "       \n",
    "    # plot joint angles over time\n",
    "    plt.figure(1)\n",
    "    plt.plot(np.linspace(0,T,N+1), joint_angles_array[:,0], 'go', label='Theta R')\n",
    "    plt.plot(np.linspace(0,T,N+1), joint_angles_array[:,1], 'bo', label='Theta L')\n",
    "    plt.xlabel('Time (s)')\n",
    "    plt.ylabel('Joint Angle (rad)')\n",
    "    plt.title('Joint Angles over Time')\n",
    "    plt.legend()\n",
    "    \n",
    "    return joint_angles_array\n"
   ]
  },
  {
   "cell_type": "code",
   "execution_count": 104,
   "metadata": {},
   "outputs": [
    {
     "name": "stdout",
     "output_type": "stream",
     "text": [
      "0.22\n",
      "0.0044\n"
     ]
    }
   ],
   "source": [
    "# Failed attempt at making the points uniformly spread by time\n",
    "d= 0.5\n",
    "N = 100\n",
    "coords = np.array([[-0.11,0.12],[0.11,0.12],[0,0.05]])\n",
    "x_coords = coords[:, 0]\n",
    "y_coords = coords[:,1]\n",
    "parab_eqn = np.poly1d(np.polyfit(x_coords, y_coords, deg=2))\n",
    "lin_ticks = d * N\n",
    "parab_ticks = N - lin_ticks\n",
    "\n",
    "parab_dist = np.poly1d(np.sqrt(1 + np.square(np.poly1d.deriv(parab_eqn)))).integ()\n",
    "\n",
    "total_dist = np.abs(parab_dist(x_coords[0]) - parab_dist(x_coords[1]))\n",
    "print(total_dist)\n",
    "dist_per_tick = total_dist / parab_ticks\n",
    "print(dist_per_tick)\n",
    "\n"
   ]
  },
  {
   "cell_type": "code",
   "execution_count": 105,
   "metadata": {},
   "outputs": [],
   "source": [
    "# Get joint angles for Gait 1\n",
    "coordinates = np.array([[-0.11,0.12],[0.11,0.12],[0,0.05]])\n",
    "joint_angles = get_gait(coordinates, d=0.5, T=0.25, N=100)"
   ]
  },
  {
   "cell_type": "code",
   "execution_count": 115,
   "metadata": {},
   "outputs": [],
   "source": [
    "# Get joint angles for Gait 2\n",
    "coordinates = np.array([[-0.08,0.10],[0.11,0.14],[0.05,0.05]])\n",
    "joint_angles = get_gait(coordinates, d=0.75, T=0.5, N=100)"
   ]
  },
  {
   "cell_type": "code",
   "execution_count": 107,
   "metadata": {},
   "outputs": [],
   "source": [
    "# Get joint angles for Gait 3\n",
    "coordinates = np.array([[-0.08,0.10],[0.08,0.10],[0,0.04]])\n",
    "joint_angles = get_gait(coordinates, d=0.5, T=1.5, N=200)"
   ]
  },
  {
   "cell_type": "markdown",
   "metadata": {},
   "source": [
    "## Part 2\n",
    "1. Collect and turn in a video of one of the gaits from the list above.\n",
    "    - emailed in\n",
    "\n",
    "2. Record the motor positions for all of the gaits above. Provide a plot of the commanded\n",
    "motor position and actual motor position vs time for each gait."
   ]
  },
  {
   "cell_type": "markdown",
   "metadata": {},
   "source": [
    "# Gait 1"
   ]
  },
  {
   "cell_type": "markdown",
   "metadata": {},
   "source": [
    "<img src=\"MAE207 HW3 Gait 1 ThetaR.png\">"
   ]
  },
  {
   "cell_type": "markdown",
   "metadata": {},
   "source": [
    "<img src=\"MAE207 HW3 Gait1 ThetaL.png\">"
   ]
  },
  {
   "cell_type": "markdown",
   "metadata": {},
   "source": [
    "# Gait 2"
   ]
  },
  {
   "cell_type": "markdown",
   "metadata": {},
   "source": [
    "<img src=\"MAE207 HW3 Gait2 ThetaR.png\">"
   ]
  },
  {
   "cell_type": "markdown",
   "metadata": {},
   "source": [
    "<img src=\"MAE207 HW3 Gait2 ThetaL.png\">"
   ]
  },
  {
   "cell_type": "markdown",
   "metadata": {},
   "source": [
    "# Gait 3"
   ]
  },
  {
   "cell_type": "markdown",
   "metadata": {},
   "source": [
    "<img src=\"MAE207 HW3 Gait3 ThetaR.png\">"
   ]
  },
  {
   "cell_type": "markdown",
   "metadata": {},
   "source": [
    "<img src=\"MAE207 HW3 Gait3 ThetaL.png\">"
   ]
  },
  {
   "cell_type": "markdown",
   "metadata": {},
   "source": [
    "Below is the code used to control, read from the motors in this section, and generate the above plots"
   ]
  },
  {
   "cell_type": "code",
   "execution_count": 108,
   "metadata": {},
   "outputs": [],
   "source": [
    "import numpy as np\n",
    "\n",
    "import matplotlib as mpl\n",
    "mpl.use('Qt5Agg')\n",
    "\n",
    "import matplotlib.pyplot as plt\n",
    "plt.ion()\n",
    "\n",
    "# for the symbolic manipulation of jacobian\n",
    "import sympy as sp\n",
    "# from sympy import symbols\n",
    "# from sympy import sin, cos, asin, acos, pi, atan2, sqrt\n",
    "from sympy.utilities.lambdify import lambdify\n",
    "# from sympy import Matrix\n",
    "\n",
    "from scipy.optimize import minimize\n",
    "from scipy.optimize import fsolve\n",
    "\n",
    "import time\n",
    "\n",
    "import odrive\n",
    "import odrive.utils\n",
    "import odrive.enums"
   ]
  },
  {
   "cell_type": "code",
   "execution_count": 111,
   "metadata": {},
   "outputs": [
    {
     "name": "stdout",
     "output_type": "stream",
     "text": [
      "Connected!\n",
      "Odrive serial 53215608451637\n",
      "Motor 0 calibrated: False\n",
      "Motor 1 calibrated: False\n"
     ]
    }
   ],
   "source": [
    "odrv0 = odrive.find_any()\n",
    "if odrv0 is not None:\n",
    "    print('Connected!')\n",
    "    print('Odrive serial {}'.format(odrv0.serial_number))\n",
    "    \n",
    "    m0 = odrv0.axis0.motor.is_calibrated\n",
    "    m1 = odrv0.axis1.motor.is_calibrated\n",
    "    \n",
    "    print('Motor 0 calibrated: {}'.format(m0))\n",
    "    print('Motor 1 calibrated: {}'.format(m1))    \n",
    "    \n",
    "else:\n",
    "    print('Not connected')"
   ]
  },
  {
   "cell_type": "code",
   "execution_count": 112,
   "metadata": {},
   "outputs": [],
   "source": [
    "odrv0.axis0.controller.config.vel_limit = 200000\n",
    "odrv0.axis1.controller.config.vel_limit = 200000"
   ]
  },
  {
   "cell_type": "code",
   "execution_count": 113,
   "metadata": {},
   "outputs": [
    {
     "name": "stdout",
     "output_type": "stream",
     "text": [
      "\t Motor 0 calibration result: True \n",
      " \t Motor 1 calibration result: True\n"
     ]
    }
   ],
   "source": [
    "odrv0.axis0.requested_state = odrive.enums.AXIS_STATE_FULL_CALIBRATION_SEQUENCE\n",
    "odrv0.axis1.requested_state = odrive.enums.AXIS_STATE_FULL_CALIBRATION_SEQUENCE\n",
    "\n",
    "time.sleep(15)\n",
    "\n",
    "print('\\t Motor 0 calibration result: {} \\r\\n'.format(odrv0.axis0.motor.is_calibrated), \n",
    "      '\\t Motor 1 calibration result: {}'.format(odrv0.axis1.motor.is_calibrated))"
   ]
  },
  {
   "cell_type": "code",
   "execution_count": 284,
   "metadata": {},
   "outputs": [],
   "source": [
    "odrv0.axis0.requested_state = odrive.enums.AXIS_STATE_CLOSED_LOOP_CONTROL\n",
    "odrv0.axis1.requested_state = odrive.enums.AXIS_STATE_CLOSED_LOOP_CONTROL\n",
    "\n",
    "odrv0.axis0.controller.set_pos_setpoint(1.2343835830688477,0,0)\n",
    "odrv0.axis1.controller.set_pos_setpoint(-3207.765625,0,0)"
   ]
  },
  {
   "cell_type": "code",
   "execution_count": 50,
   "metadata": {},
   "outputs": [],
   "source": [
    "odrv0.axis0.requested_state = odrive.enums.AXIS_STATE_IDLE\n",
    "odrv0.axis1.requested_state = odrive.enums.AXIS_STATE_IDLE"
   ]
  },
  {
   "cell_type": "code",
   "execution_count": 116,
   "metadata": {},
   "outputs": [],
   "source": [
    "# adjust joint angles\n",
    "\n",
    "adjusted_joint_angles = np.pi - joint_angles"
   ]
  },
  {
   "cell_type": "code",
   "execution_count": 119,
   "metadata": {},
   "outputs": [],
   "source": [
    "motor_cpr = (odrv0.axis0.encoder.config.cpr, \n",
    "             odrv0.axis1.encoder.config.cpr)\n",
    "\n",
    "def convert_joints(angles, cpr=motor_cpr, zero_pos = (2774.234375-4096, -1452.25)):\n",
    "    encoder_vals = (angles * cpr[0] / (2 * np.pi)) + zero_pos\n",
    "    return encoder_vals"
   ]
  },
  {
   "cell_type": "code",
   "execution_count": 117,
   "metadata": {},
   "outputs": [
    {
     "name": "stdout",
     "output_type": "stream",
     "text": [
      "encoder0:  2774.234375\n",
      "encoder1:  -1452.25\n",
      "angles in rad:  (2.1278111161709647, -1.1138617996034612)\n",
      "converted to encoder:  [ 2479.984375   -8804.25097656]\n",
      "test:  [ -294.25       -7352.00097656]\n"
     ]
    }
   ],
   "source": [
    "motor_cpr = (odrv0.axis0.encoder.config.cpr, \n",
    "             odrv0.axis1.encoder.config.cpr)\n",
    "\n",
    "def get_joints(odrv, cpr = motor_cpr, zero_pos = (0,0)):\n",
    "    m0 = 2*np.pi*(odrv.axis0.encoder.pos_estimate - zero_pos[0])/motor_cpr[0]\n",
    "    m1 = 2*np.pi*(odrv.axis1.encoder.pos_estimate - zero_pos[1])/motor_cpr[1]\n",
    "    \n",
    "    return (m0, m1)\n",
    "\n",
    "joints = get_joints(odrv0)\n",
    "\n",
    "print('encoder0: ', odrv0.axis0.encoder.pos_estimate)\n",
    "print('encoder1: ', odrv0.axis1.encoder.pos_estimate)\n",
    "print('angles in rad: ',joints)\n",
    "print('converted to encoder: ', convert_joints(np.array(list(joints))))\n",
    "\n",
    "print('test: ', convert_joints(np.array([0,0])))"
   ]
  },
  {
   "cell_type": "code",
   "execution_count": 120,
   "metadata": {},
   "outputs": [],
   "source": [
    "# get encoder values\n",
    "encoder_vals = convert_joints(adjusted_joint_angles)"
   ]
  },
  {
   "cell_type": "code",
   "execution_count": 125,
   "metadata": {},
   "outputs": [
    {
     "name": "stdout",
     "output_type": "stream",
     "text": [
      "nan\n",
      "nan\n",
      "nan\n",
      "nan\n",
      "nan\n",
      "nan\n",
      "nan\n",
      "nan\n",
      "nan\n",
      "nan\n",
      "nan\n",
      "nan\n",
      "nan\n",
      "nan\n",
      "nan\n"
     ]
    }
   ],
   "source": [
    "import math\n",
    "T = 0.5\n",
    "N = 100\n",
    "time_per_tick = T / N\n",
    "\n",
    "odrv0.axis0.requested_state = odrive.enums.AXIS_STATE_CLOSED_LOOP_CONTROL\n",
    "odrv0.axis1.requested_state = odrive.enums.AXIS_STATE_CLOSED_LOOP_CONTROL\n",
    "\n",
    "actual_motor_pos0 = []\n",
    "actual_motor_pos1 = []\n",
    "\n",
    "for j in range(5):\n",
    "    for i in range(encoder_vals.shape[0]):\n",
    "        start = time.time()\n",
    "        thetaR = encoder_vals[i,0]\n",
    "        thetaL = encoder_vals[i,1]\n",
    "        if math.isnan(thetaR):\n",
    "            print(\"nan\")\n",
    "        else:\n",
    "\n",
    "            odrv0.axis0.controller.set_pos_setpoint(thetaR,0,0)\n",
    "            odrv0.axis1.controller.set_pos_setpoint(thetaL,0,0)\n",
    "            \n",
    "        M0 = odrv0.axis0.encoder.pos_estimate\n",
    "        M1 = odrv0.axis1.encoder.pos_estimate\n",
    "        \n",
    "        actual_motor_pos0.append(M0)\n",
    "        actual_motor_pos1.append(M1)\n",
    "\n",
    "        end = time.time()\n",
    "\n",
    "        time.sleep(time_per_tick - (start - end))\n",
    "    "
   ]
  },
  {
   "cell_type": "code",
   "execution_count": 123,
   "metadata": {},
   "outputs": [
    {
     "data": {
      "text/plain": [
       "[]"
      ]
     },
     "execution_count": 123,
     "metadata": {},
     "output_type": "execute_result"
    }
   ],
   "source": [
    "plt.plot(np.linspace(0,T,N),encoder_vals[1:,0], 'ro', label='Desired')\n",
    "plt.plot(np.linspace(0,T,N),actual_motor_pos0[1:], 'go', label='Actual')\n",
    "plt.title(\"Motor 0 (Theta R) Desired and Actual Position\")\n",
    "plt.xlabel('Time (s)')\n",
    "plt.ylabel('Motor position (encoder ticks)')\n",
    "plt.legend()\n",
    "plt.plot()"
   ]
  },
  {
   "cell_type": "code",
   "execution_count": 124,
   "metadata": {},
   "outputs": [
    {
     "data": {
      "text/plain": [
       "[]"
      ]
     },
     "execution_count": 124,
     "metadata": {},
     "output_type": "execute_result"
    }
   ],
   "source": [
    "plt.plot(np.linspace(0,T,N),encoder_vals[1:,1], 'ro', label='Desired')\n",
    "plt.plot(np.linspace(0,T,N),actual_motor_pos1[1:], 'go', label='Actual')\n",
    "plt.title(\"Motor 1 (Theta L) Desired and Actual Position\")\n",
    "plt.xlabel('Time (s)')\n",
    "plt.ylabel('Motor position (encoder ticks)')\n",
    "plt.legend()\n",
    "plt.plot()"
   ]
  },
  {
   "cell_type": "code",
   "execution_count": 740,
   "metadata": {},
   "outputs": [
    {
     "name": "stdout",
     "output_type": "stream",
     "text": [
      "axis0\n",
      "  axis: \u001b[92;1mno error\u001b[0m\n",
      "  motor: \u001b[92;1mno error\u001b[0m\n",
      "  encoder: \u001b[92;1mno error\u001b[0m\n",
      "  controller: \u001b[92;1mno error\u001b[0m\n",
      "axis1\n",
      "  axis: \u001b[92;1mno error\u001b[0m\n",
      "  motor: \u001b[92;1mno error\u001b[0m\n",
      "  encoder: \u001b[92;1mno error\u001b[0m\n",
      "  controller: \u001b[92;1mno error\u001b[0m\n"
     ]
    }
   ],
   "source": [
    "odrive.utils.dump_errors(odrv0)"
   ]
  }
 ],
 "metadata": {
  "kernelspec": {
   "display_name": "Python 3",
   "language": "python",
   "name": "python3"
  },
  "language_info": {
   "codemirror_mode": {
    "name": "ipython",
    "version": 3
   },
   "file_extension": ".py",
   "mimetype": "text/x-python",
   "name": "python",
   "nbconvert_exporter": "python",
   "pygments_lexer": "ipython3",
   "version": "3.7.5"
  }
 },
 "nbformat": 4,
 "nbformat_minor": 4
}
